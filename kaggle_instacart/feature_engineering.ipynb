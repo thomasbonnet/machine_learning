{
 "cells": [
  {
   "cell_type": "code",
   "execution_count": 1,
   "metadata": {
    "collapsed": true
   },
   "outputs": [],
   "source": [
    "import pandas as pd\n",
    "import matplotlib.pyplot as plt\n",
    "\n",
    "%matplotlib inline"
   ]
  },
  {
   "cell_type": "code",
   "execution_count": 2,
   "metadata": {
    "collapsed": false
   },
   "outputs": [
    {
     "name": "stdout",
     "output_type": "stream",
     "text": [
      "Reading the orders dataset...\n"
     ]
    }
   ],
   "source": [
    "print ('Reading the orders dataset...')\n",
    "df_orders = pd.read_csv('data/orders.csv',dtype={'order_id':np.uint32,\n",
    "                                                 'user_id':np.uint32,\n",
    "                                                 'order_number':np.uint8,\n",
    "                                                 'order_dow':np.uint8,\n",
    "                                                 'order_hour_of_day':np.uint8,\n",
    "                                                'eval_set':'category'})"
   ]
  },
  {
   "cell_type": "code",
   "execution_count": 3,
   "metadata": {
    "collapsed": false
   },
   "outputs": [],
   "source": [
    "df_orders['days_since_prior_order'].fillna(0,inplace=True)\n",
    "df_orders['days_since_prior_order'] = df_orders['days_since_prior_order'].astype(np.uint8)"
   ]
  },
  {
   "cell_type": "code",
   "execution_count": 4,
   "metadata": {
    "collapsed": true
   },
   "outputs": [],
   "source": [
    "df_orders['order_hour_of_week'] = 24 * df_orders['order_dow'] + df_orders['order_hour_of_day']"
   ]
  },
  {
   "cell_type": "code",
   "execution_count": 5,
   "metadata": {
    "collapsed": false,
    "scrolled": true
   },
   "outputs": [
    {
     "data": {
      "text/html": [
       "<div>\n",
       "<table border=\"1\" class=\"dataframe\">\n",
       "  <thead>\n",
       "    <tr style=\"text-align: right;\">\n",
       "      <th></th>\n",
       "      <th>order_id</th>\n",
       "      <th>user_id</th>\n",
       "      <th>eval_set</th>\n",
       "      <th>order_number</th>\n",
       "      <th>order_dow</th>\n",
       "      <th>order_hour_of_day</th>\n",
       "      <th>days_since_prior_order</th>\n",
       "      <th>order_hour_of_week</th>\n",
       "    </tr>\n",
       "  </thead>\n",
       "  <tbody>\n",
       "    <tr>\n",
       "      <th>0</th>\n",
       "      <td>2539329</td>\n",
       "      <td>1</td>\n",
       "      <td>prior</td>\n",
       "      <td>1</td>\n",
       "      <td>2</td>\n",
       "      <td>8</td>\n",
       "      <td>0</td>\n",
       "      <td>56</td>\n",
       "    </tr>\n",
       "    <tr>\n",
       "      <th>1</th>\n",
       "      <td>2398795</td>\n",
       "      <td>1</td>\n",
       "      <td>prior</td>\n",
       "      <td>2</td>\n",
       "      <td>3</td>\n",
       "      <td>7</td>\n",
       "      <td>15</td>\n",
       "      <td>79</td>\n",
       "    </tr>\n",
       "    <tr>\n",
       "      <th>2</th>\n",
       "      <td>473747</td>\n",
       "      <td>1</td>\n",
       "      <td>prior</td>\n",
       "      <td>3</td>\n",
       "      <td>3</td>\n",
       "      <td>12</td>\n",
       "      <td>21</td>\n",
       "      <td>84</td>\n",
       "    </tr>\n",
       "    <tr>\n",
       "      <th>3</th>\n",
       "      <td>2254736</td>\n",
       "      <td>1</td>\n",
       "      <td>prior</td>\n",
       "      <td>4</td>\n",
       "      <td>4</td>\n",
       "      <td>7</td>\n",
       "      <td>29</td>\n",
       "      <td>103</td>\n",
       "    </tr>\n",
       "    <tr>\n",
       "      <th>4</th>\n",
       "      <td>431534</td>\n",
       "      <td>1</td>\n",
       "      <td>prior</td>\n",
       "      <td>5</td>\n",
       "      <td>4</td>\n",
       "      <td>15</td>\n",
       "      <td>28</td>\n",
       "      <td>111</td>\n",
       "    </tr>\n",
       "  </tbody>\n",
       "</table>\n",
       "</div>"
      ],
      "text/plain": [
       "   order_id  user_id eval_set  order_number  order_dow  order_hour_of_day  \\\n",
       "0   2539329        1    prior             1          2                  8   \n",
       "1   2398795        1    prior             2          3                  7   \n",
       "2    473747        1    prior             3          3                 12   \n",
       "3   2254736        1    prior             4          4                  7   \n",
       "4    431534        1    prior             5          4                 15   \n",
       "\n",
       "   days_since_prior_order  order_hour_of_week  \n",
       "0                       0                  56  \n",
       "1                      15                  79  \n",
       "2                      21                  84  \n",
       "3                      29                 103  \n",
       "4                      28                 111  "
      ]
     },
     "execution_count": 5,
     "metadata": {},
     "output_type": "execute_result"
    }
   ],
   "source": [
    "df_orders.head()"
   ]
  },
  {
   "cell_type": "code",
   "execution_count": 6,
   "metadata": {
    "collapsed": true
   },
   "outputs": [],
   "source": [
    "eval_set = 'train'"
   ]
  },
  {
   "cell_type": "code",
   "execution_count": 7,
   "metadata": {
    "collapsed": true
   },
   "outputs": [],
   "source": [
    "df_users_eval = df_orders.loc[df_orders.eval_set==eval_set,'user_id']"
   ]
  },
  {
   "cell_type": "code",
   "execution_count": 8,
   "metadata": {
    "collapsed": false
   },
   "outputs": [
    {
     "name": "stderr",
     "output_type": "stream",
     "text": [
      "/usr/local/lib/python2.7/dist-packages/pandas/core/frame.py:2834: SettingWithCopyWarning: \n",
      "A value is trying to be set on a copy of a slice from a DataFrame\n",
      "\n",
      "See the caveats in the documentation: http://pandas.pydata.org/pandas-docs/stable/indexing.html#indexing-view-versus-copy\n",
      "  **kwargs)\n"
     ]
    }
   ],
   "source": [
    "df_users = df_orders.loc[df_orders.eval_set==eval_set]\n",
    "del df_users['eval_set']\n",
    "\n",
    "\n",
    "#df_users.columns = ['_'.join(col).strip() for col in df_users.columns.values]\n",
    "\n",
    "df_users.rename(columns={'order_number':'train_order_number',\n",
    "                         'order_dow':'train_order_dow',\n",
    "                         'order_hour_of_day':'train_order_hod',\n",
    "                         'order_hour_of_week':'train_order_how',\n",
    "                         'days_since_prior_order':'train_dspo'},inplace=True)"
   ]
  },
  {
   "cell_type": "code",
   "execution_count": 9,
   "metadata": {
    "collapsed": false
   },
   "outputs": [
    {
     "data": {
      "text/html": [
       "<div>\n",
       "<table border=\"1\" class=\"dataframe\">\n",
       "  <thead>\n",
       "    <tr style=\"text-align: right;\">\n",
       "      <th></th>\n",
       "      <th>order_id</th>\n",
       "      <th>user_id</th>\n",
       "      <th>train_order_number</th>\n",
       "      <th>train_order_dow</th>\n",
       "      <th>train_order_hod</th>\n",
       "      <th>train_dspo</th>\n",
       "      <th>train_order_how</th>\n",
       "    </tr>\n",
       "  </thead>\n",
       "  <tbody>\n",
       "    <tr>\n",
       "      <th>10</th>\n",
       "      <td>1187899</td>\n",
       "      <td>1</td>\n",
       "      <td>11</td>\n",
       "      <td>4</td>\n",
       "      <td>8</td>\n",
       "      <td>14</td>\n",
       "      <td>104</td>\n",
       "    </tr>\n",
       "    <tr>\n",
       "      <th>25</th>\n",
       "      <td>1492625</td>\n",
       "      <td>2</td>\n",
       "      <td>15</td>\n",
       "      <td>1</td>\n",
       "      <td>11</td>\n",
       "      <td>30</td>\n",
       "      <td>35</td>\n",
       "    </tr>\n",
       "    <tr>\n",
       "      <th>49</th>\n",
       "      <td>2196797</td>\n",
       "      <td>5</td>\n",
       "      <td>5</td>\n",
       "      <td>0</td>\n",
       "      <td>11</td>\n",
       "      <td>6</td>\n",
       "      <td>11</td>\n",
       "    </tr>\n",
       "    <tr>\n",
       "      <th>74</th>\n",
       "      <td>525192</td>\n",
       "      <td>7</td>\n",
       "      <td>21</td>\n",
       "      <td>2</td>\n",
       "      <td>11</td>\n",
       "      <td>6</td>\n",
       "      <td>59</td>\n",
       "    </tr>\n",
       "    <tr>\n",
       "      <th>78</th>\n",
       "      <td>880375</td>\n",
       "      <td>8</td>\n",
       "      <td>4</td>\n",
       "      <td>1</td>\n",
       "      <td>14</td>\n",
       "      <td>10</td>\n",
       "      <td>38</td>\n",
       "    </tr>\n",
       "  </tbody>\n",
       "</table>\n",
       "</div>"
      ],
      "text/plain": [
       "    order_id  user_id  train_order_number  train_order_dow  train_order_hod  \\\n",
       "10   1187899        1                  11                4                8   \n",
       "25   1492625        2                  15                1               11   \n",
       "49   2196797        5                   5                0               11   \n",
       "74    525192        7                  21                2               11   \n",
       "78    880375        8                   4                1               14   \n",
       "\n",
       "    train_dspo  train_order_how  \n",
       "10          14              104  \n",
       "25          30               35  \n",
       "49           6               11  \n",
       "74           6               59  \n",
       "78          10               38  "
      ]
     },
     "execution_count": 9,
     "metadata": {},
     "output_type": "execute_result"
    }
   ],
   "source": [
    "df_users.head()"
   ]
  },
  {
   "cell_type": "markdown",
   "metadata": {},
   "source": [
    "# Products prior"
   ]
  },
  {
   "cell_type": "code",
   "execution_count": 10,
   "metadata": {
    "collapsed": true
   },
   "outputs": [],
   "source": [
    "df_orders_prior = df_orders.loc[df_orders.eval_set=='prior']\n",
    "df_orders_prior = df_orders_prior.loc[df_orders_prior.user_id.isin(df_users_eval)]"
   ]
  },
  {
   "cell_type": "markdown",
   "metadata": {},
   "source": [
    "## Number of days between the order_number and the last order: Days Before Last Order"
   ]
  },
  {
   "cell_type": "markdown",
   "metadata": {},
   "source": [
    "The first step is to group the days_since_prior_order per user_id. Then we compute the reverse cumulative sum of the list (i.e. 0 days for last order, maximum number of days for the first order of the user). "
   ]
  },
  {
   "cell_type": "code",
   "execution_count": 11,
   "metadata": {
    "collapsed": false
   },
   "outputs": [],
   "source": [
    "def cumsum_days(group):\n",
    "    days = (np.cumsum(group.values[:0:-1]))\n",
    "    return np.insert(days,0,0)\n",
    "    \n",
    "ser_dblo = df_orders_prior.groupby('user_id')['days_since_prior_order'].apply(cumsum_days)"
   ]
  },
  {
   "cell_type": "code",
   "execution_count": 12,
   "metadata": {
    "collapsed": false
   },
   "outputs": [
    {
     "data": {
      "text/plain": [
       "user_id\n",
       "1          [0, 30, 30, 44, 64, 83, 111, 140, 161, 176]\n",
       "2    [0, 13, 43, 71, 101, 107, 115, 142, 156, 169, ...\n",
       "5                                      [0, 19, 29, 40]\n",
       "7    [0, 7, 10, 17, 45, 56, 58, 75, 80, 87, 93, 102...\n",
       "8                                          [0, 30, 60]\n",
       "Name: days_since_prior_order, dtype: object"
      ]
     },
     "execution_count": 12,
     "metadata": {},
     "output_type": "execute_result"
    }
   ],
   "source": [
    "ser_dblo.head()"
   ]
  },
  {
   "cell_type": "code",
   "execution_count": 13,
   "metadata": {
    "collapsed": false
   },
   "outputs": [],
   "source": [
    "def calc_days(row):\n",
    "    return ser_dblo.loc[row['user_id']][-row['order_number']]\n",
    "\n",
    "pickle_name = 'orders_prior_'+eval_set+'.pkl'\n",
    "Force = False\n",
    "\n",
    "if Force == True:\n",
    "    df_orders_prior['dblo'] = df_orders_prior.apply(calc_days,axis=1)\n",
    "    df_orders_prior.to_pickle(pickle_name)\n",
    "else :\n",
    "    df_orders_prior = pd.read_pickle(pickle_name)"
   ]
  },
  {
   "cell_type": "code",
   "execution_count": 14,
   "metadata": {
    "collapsed": false
   },
   "outputs": [
    {
     "data": {
      "text/html": [
       "<div>\n",
       "<table border=\"1\" class=\"dataframe\">\n",
       "  <thead>\n",
       "    <tr style=\"text-align: right;\">\n",
       "      <th></th>\n",
       "      <th>order_id</th>\n",
       "      <th>user_id</th>\n",
       "      <th>eval_set</th>\n",
       "      <th>order_number</th>\n",
       "      <th>order_dow</th>\n",
       "      <th>order_hour_of_day</th>\n",
       "      <th>days_since_prior_order</th>\n",
       "      <th>order_hour_of_week</th>\n",
       "      <th>dblo</th>\n",
       "    </tr>\n",
       "  </thead>\n",
       "  <tbody>\n",
       "    <tr>\n",
       "      <th>0</th>\n",
       "      <td>2539329</td>\n",
       "      <td>1</td>\n",
       "      <td>prior</td>\n",
       "      <td>1</td>\n",
       "      <td>2</td>\n",
       "      <td>8</td>\n",
       "      <td>0</td>\n",
       "      <td>56</td>\n",
       "      <td>176</td>\n",
       "    </tr>\n",
       "    <tr>\n",
       "      <th>1</th>\n",
       "      <td>2398795</td>\n",
       "      <td>1</td>\n",
       "      <td>prior</td>\n",
       "      <td>2</td>\n",
       "      <td>3</td>\n",
       "      <td>7</td>\n",
       "      <td>15</td>\n",
       "      <td>79</td>\n",
       "      <td>161</td>\n",
       "    </tr>\n",
       "    <tr>\n",
       "      <th>2</th>\n",
       "      <td>473747</td>\n",
       "      <td>1</td>\n",
       "      <td>prior</td>\n",
       "      <td>3</td>\n",
       "      <td>3</td>\n",
       "      <td>12</td>\n",
       "      <td>21</td>\n",
       "      <td>84</td>\n",
       "      <td>140</td>\n",
       "    </tr>\n",
       "    <tr>\n",
       "      <th>3</th>\n",
       "      <td>2254736</td>\n",
       "      <td>1</td>\n",
       "      <td>prior</td>\n",
       "      <td>4</td>\n",
       "      <td>4</td>\n",
       "      <td>7</td>\n",
       "      <td>29</td>\n",
       "      <td>103</td>\n",
       "      <td>111</td>\n",
       "    </tr>\n",
       "    <tr>\n",
       "      <th>4</th>\n",
       "      <td>431534</td>\n",
       "      <td>1</td>\n",
       "      <td>prior</td>\n",
       "      <td>5</td>\n",
       "      <td>4</td>\n",
       "      <td>15</td>\n",
       "      <td>28</td>\n",
       "      <td>111</td>\n",
       "      <td>83</td>\n",
       "    </tr>\n",
       "  </tbody>\n",
       "</table>\n",
       "</div>"
      ],
      "text/plain": [
       "   order_id  user_id eval_set  order_number  order_dow  order_hour_of_day  \\\n",
       "0   2539329        1    prior             1          2                  8   \n",
       "1   2398795        1    prior             2          3                  7   \n",
       "2    473747        1    prior             3          3                 12   \n",
       "3   2254736        1    prior             4          4                  7   \n",
       "4    431534        1    prior             5          4                 15   \n",
       "\n",
       "   days_since_prior_order  order_hour_of_week  dblo  \n",
       "0                       0                  56   176  \n",
       "1                      15                  79   161  \n",
       "2                      21                  84   140  \n",
       "3                      29                 103   111  \n",
       "4                      28                 111    83  "
      ]
     },
     "execution_count": 14,
     "metadata": {},
     "output_type": "execute_result"
    }
   ],
   "source": [
    "df_orders_prior.head()"
   ]
  },
  {
   "cell_type": "markdown",
   "metadata": {},
   "source": [
    "##  Build product prior dataset"
   ]
  },
  {
   "cell_type": "code",
   "execution_count": 15,
   "metadata": {
    "collapsed": false
   },
   "outputs": [
    {
     "name": "stdout",
     "output_type": "stream",
     "text": [
      "Reading the prior products dataset...\n"
     ]
    }
   ],
   "source": [
    "print('Reading the prior products dataset...')\n",
    "df_products_prior = pd.read_csv('data/order_products__prior.csv',dtype={'order_id':np.uint32,\n",
    "                                                                        'product_id':np.uint32,\n",
    "                                                                        'add_to_cart_order':np.uint8,\n",
    "                                                                        'reordered':np.bool})"
   ]
  },
  {
   "cell_type": "code",
   "execution_count": 16,
   "metadata": {
    "collapsed": false
   },
   "outputs": [],
   "source": [
    "df_products_prior = pd.merge(df_products_prior,df_orders_prior[['order_id',\n",
    "                                                                'user_id',\n",
    "                                                                'order_number',\n",
    "                                                                'order_dow',\n",
    "                                                                'order_hour_of_day',\n",
    "                                                                'order_hour_of_week',\n",
    "                                                                'dblo']],on='order_id')\n",
    "\n",
    "df_products_prior.rename(columns={'order_dow':'order_dow',\n",
    "                                  'order_hour_of_day':'order_hod',\n",
    "                                  'order_hour_of_week':'order_how',\n",
    "                                  'days_since_prior_order':'dspo'},inplace=True)\n"
   ]
  },
  {
   "cell_type": "code",
   "execution_count": 17,
   "metadata": {
    "collapsed": false
   },
   "outputs": [
    {
     "name": "stdout",
     "output_type": "stream",
     "text": [
      "Number of prior orders associated to the train dataset: 2047377\n"
     ]
    }
   ],
   "source": [
    "number_of_orders = len(df_orders.loc[df_orders.user_id.isin(df_users_eval)]) - len(df_users_eval) \n",
    "#number_of_orders = len(df_products_prior.groupby('order_id')) ##same result but slower\n",
    "print('Number of prior orders associated to the train dataset: {}'.format(number_of_orders))"
   ]
  },
  {
   "cell_type": "code",
   "execution_count": 18,
   "metadata": {
    "collapsed": false
   },
   "outputs": [
    {
     "data": {
      "text/html": [
       "<div>\n",
       "<table border=\"1\" class=\"dataframe\">\n",
       "  <thead>\n",
       "    <tr style=\"text-align: right;\">\n",
       "      <th></th>\n",
       "      <th>order_id</th>\n",
       "      <th>product_id</th>\n",
       "      <th>add_to_cart_order</th>\n",
       "      <th>reordered</th>\n",
       "      <th>user_id</th>\n",
       "      <th>order_number</th>\n",
       "      <th>order_dow</th>\n",
       "      <th>order_hod</th>\n",
       "      <th>order_how</th>\n",
       "      <th>dblo</th>\n",
       "    </tr>\n",
       "  </thead>\n",
       "  <tbody>\n",
       "    <tr>\n",
       "      <th>0</th>\n",
       "      <td>2</td>\n",
       "      <td>33120</td>\n",
       "      <td>1</td>\n",
       "      <td>True</td>\n",
       "      <td>202279</td>\n",
       "      <td>3</td>\n",
       "      <td>5</td>\n",
       "      <td>9</td>\n",
       "      <td>129</td>\n",
       "      <td>123</td>\n",
       "    </tr>\n",
       "    <tr>\n",
       "      <th>1</th>\n",
       "      <td>2</td>\n",
       "      <td>28985</td>\n",
       "      <td>2</td>\n",
       "      <td>True</td>\n",
       "      <td>202279</td>\n",
       "      <td>3</td>\n",
       "      <td>5</td>\n",
       "      <td>9</td>\n",
       "      <td>129</td>\n",
       "      <td>123</td>\n",
       "    </tr>\n",
       "    <tr>\n",
       "      <th>2</th>\n",
       "      <td>2</td>\n",
       "      <td>9327</td>\n",
       "      <td>3</td>\n",
       "      <td>False</td>\n",
       "      <td>202279</td>\n",
       "      <td>3</td>\n",
       "      <td>5</td>\n",
       "      <td>9</td>\n",
       "      <td>129</td>\n",
       "      <td>123</td>\n",
       "    </tr>\n",
       "    <tr>\n",
       "      <th>3</th>\n",
       "      <td>2</td>\n",
       "      <td>45918</td>\n",
       "      <td>4</td>\n",
       "      <td>True</td>\n",
       "      <td>202279</td>\n",
       "      <td>3</td>\n",
       "      <td>5</td>\n",
       "      <td>9</td>\n",
       "      <td>129</td>\n",
       "      <td>123</td>\n",
       "    </tr>\n",
       "    <tr>\n",
       "      <th>4</th>\n",
       "      <td>2</td>\n",
       "      <td>30035</td>\n",
       "      <td>5</td>\n",
       "      <td>False</td>\n",
       "      <td>202279</td>\n",
       "      <td>3</td>\n",
       "      <td>5</td>\n",
       "      <td>9</td>\n",
       "      <td>129</td>\n",
       "      <td>123</td>\n",
       "    </tr>\n",
       "  </tbody>\n",
       "</table>\n",
       "</div>"
      ],
      "text/plain": [
       "   order_id  product_id  add_to_cart_order reordered  user_id  order_number  \\\n",
       "0         2       33120                  1      True   202279             3   \n",
       "1         2       28985                  2      True   202279             3   \n",
       "2         2        9327                  3     False   202279             3   \n",
       "3         2       45918                  4      True   202279             3   \n",
       "4         2       30035                  5     False   202279             3   \n",
       "\n",
       "   order_dow  order_hod  order_how  dblo  \n",
       "0          5          9        129   123  \n",
       "1          5          9        129   123  \n",
       "2          5          9        129   123  \n",
       "3          5          9        129   123  \n",
       "4          5          9        129   123  "
      ]
     },
     "execution_count": 18,
     "metadata": {},
     "output_type": "execute_result"
    }
   ],
   "source": [
    "df_products_prior.head()"
   ]
  },
  {
   "cell_type": "code",
   "execution_count": 19,
   "metadata": {
    "collapsed": false
   },
   "outputs": [],
   "source": [
    "df_cat = pd.read_csv('data/products.csv',\n",
    "                     usecols=['product_id','aisle_id','department_id'],\n",
    "                     index_col=['product_id'], \n",
    "                     dtype={'aisle_id':np.uint8,'department_id':np.uint8})"
   ]
  },
  {
   "cell_type": "code",
   "execution_count": 20,
   "metadata": {
    "collapsed": false,
    "scrolled": true
   },
   "outputs": [],
   "source": [
    "df_products_prior = df_products_prior.join(df_cat,on='product_id')\n",
    "del df_cat"
   ]
  },
  {
   "cell_type": "code",
   "execution_count": 21,
   "metadata": {
    "collapsed": false,
    "scrolled": false
   },
   "outputs": [
    {
     "data": {
      "text/html": [
       "<div>\n",
       "<table border=\"1\" class=\"dataframe\">\n",
       "  <thead>\n",
       "    <tr style=\"text-align: right;\">\n",
       "      <th></th>\n",
       "      <th>order_id</th>\n",
       "      <th>product_id</th>\n",
       "      <th>add_to_cart_order</th>\n",
       "      <th>reordered</th>\n",
       "      <th>user_id</th>\n",
       "      <th>order_number</th>\n",
       "      <th>order_dow</th>\n",
       "      <th>order_hod</th>\n",
       "      <th>order_how</th>\n",
       "      <th>dblo</th>\n",
       "      <th>aisle_id</th>\n",
       "      <th>department_id</th>\n",
       "    </tr>\n",
       "  </thead>\n",
       "  <tbody>\n",
       "    <tr>\n",
       "      <th>0</th>\n",
       "      <td>2</td>\n",
       "      <td>33120</td>\n",
       "      <td>1</td>\n",
       "      <td>True</td>\n",
       "      <td>202279</td>\n",
       "      <td>3</td>\n",
       "      <td>5</td>\n",
       "      <td>9</td>\n",
       "      <td>129</td>\n",
       "      <td>123</td>\n",
       "      <td>86</td>\n",
       "      <td>16</td>\n",
       "    </tr>\n",
       "    <tr>\n",
       "      <th>1</th>\n",
       "      <td>2</td>\n",
       "      <td>28985</td>\n",
       "      <td>2</td>\n",
       "      <td>True</td>\n",
       "      <td>202279</td>\n",
       "      <td>3</td>\n",
       "      <td>5</td>\n",
       "      <td>9</td>\n",
       "      <td>129</td>\n",
       "      <td>123</td>\n",
       "      <td>83</td>\n",
       "      <td>4</td>\n",
       "    </tr>\n",
       "    <tr>\n",
       "      <th>2</th>\n",
       "      <td>2</td>\n",
       "      <td>9327</td>\n",
       "      <td>3</td>\n",
       "      <td>False</td>\n",
       "      <td>202279</td>\n",
       "      <td>3</td>\n",
       "      <td>5</td>\n",
       "      <td>9</td>\n",
       "      <td>129</td>\n",
       "      <td>123</td>\n",
       "      <td>104</td>\n",
       "      <td>13</td>\n",
       "    </tr>\n",
       "    <tr>\n",
       "      <th>3</th>\n",
       "      <td>2</td>\n",
       "      <td>45918</td>\n",
       "      <td>4</td>\n",
       "      <td>True</td>\n",
       "      <td>202279</td>\n",
       "      <td>3</td>\n",
       "      <td>5</td>\n",
       "      <td>9</td>\n",
       "      <td>129</td>\n",
       "      <td>123</td>\n",
       "      <td>19</td>\n",
       "      <td>13</td>\n",
       "    </tr>\n",
       "    <tr>\n",
       "      <th>4</th>\n",
       "      <td>2</td>\n",
       "      <td>30035</td>\n",
       "      <td>5</td>\n",
       "      <td>False</td>\n",
       "      <td>202279</td>\n",
       "      <td>3</td>\n",
       "      <td>5</td>\n",
       "      <td>9</td>\n",
       "      <td>129</td>\n",
       "      <td>123</td>\n",
       "      <td>17</td>\n",
       "      <td>13</td>\n",
       "    </tr>\n",
       "  </tbody>\n",
       "</table>\n",
       "</div>"
      ],
      "text/plain": [
       "   order_id  product_id  add_to_cart_order reordered  user_id  order_number  \\\n",
       "0         2       33120                  1      True   202279             3   \n",
       "1         2       28985                  2      True   202279             3   \n",
       "2         2        9327                  3     False   202279             3   \n",
       "3         2       45918                  4      True   202279             3   \n",
       "4         2       30035                  5     False   202279             3   \n",
       "\n",
       "   order_dow  order_hod  order_how  dblo  aisle_id  department_id  \n",
       "0          5          9        129   123        86             16  \n",
       "1          5          9        129   123        83              4  \n",
       "2          5          9        129   123       104             13  \n",
       "3          5          9        129   123        19             13  \n",
       "4          5          9        129   123        17             13  "
      ]
     },
     "execution_count": 21,
     "metadata": {},
     "output_type": "execute_result"
    }
   ],
   "source": [
    "df_products_prior.head()"
   ]
  },
  {
   "cell_type": "markdown",
   "metadata": {},
   "source": [
    "## Orders by Product id"
   ]
  },
  {
   "cell_type": "code",
   "execution_count": 22,
   "metadata": {
    "collapsed": false
   },
   "outputs": [],
   "source": [
    "df_product = df_products_prior.groupby('product_id')[['add_to_cart_order',\n",
    "                                                      'reordered']].agg({'add_to_cart_order':np.mean,'reordered':[np.sum,'size']})\n",
    "df_product.columns = ['_'.join(col).strip() for col in df_product.columns.values]\n",
    "#df_product['reordered_ratio'] = df_product['reordered_sum'] / df_product['reordered_sum'].sum()\n",
    "#df_product['reordered_ratio'] = df_product['reordered_ratio'].astype(np.float32)\n",
    "#df_product.columns = df_product.columns.levels[1]\n",
    "\n",
    "df_product.rename(columns={'add_to_cart_order_mean':'atco_per_prod',\n",
    "                            'reordered_sum':'reord_per_prod',\n",
    "                            'reordered_size':'ord_per_prod'},inplace=True)\n",
    "\n",
    "df_product['reord_per_prod'] = df_product['reord_per_prod'].astype(np.uint32)\n",
    "df_product['ord_per_prod'] = df_product['ord_per_prod'].astype(np.uint32)\n",
    "df_product.reset_index(inplace=True)"
   ]
  },
  {
   "cell_type": "code",
   "execution_count": 23,
   "metadata": {
    "collapsed": false,
    "scrolled": true
   },
   "outputs": [
    {
     "data": {
      "text/html": [
       "<div>\n",
       "<table border=\"1\" class=\"dataframe\">\n",
       "  <thead>\n",
       "    <tr style=\"text-align: right;\">\n",
       "      <th></th>\n",
       "      <th>product_id</th>\n",
       "      <th>atco_per_prod</th>\n",
       "      <th>reord_per_prod</th>\n",
       "      <th>ord_per_prod</th>\n",
       "    </tr>\n",
       "  </thead>\n",
       "  <tbody>\n",
       "    <tr>\n",
       "      <th>0</th>\n",
       "      <td>1</td>\n",
       "      <td>5.647255</td>\n",
       "      <td>754</td>\n",
       "      <td>1202</td>\n",
       "    </tr>\n",
       "    <tr>\n",
       "      <th>1</th>\n",
       "      <td>2</td>\n",
       "      <td>10.766667</td>\n",
       "      <td>10</td>\n",
       "      <td>60</td>\n",
       "    </tr>\n",
       "    <tr>\n",
       "      <th>2</th>\n",
       "      <td>3</td>\n",
       "      <td>6.378238</td>\n",
       "      <td>146</td>\n",
       "      <td>193</td>\n",
       "    </tr>\n",
       "    <tr>\n",
       "      <th>3</th>\n",
       "      <td>4</td>\n",
       "      <td>9.788991</td>\n",
       "      <td>104</td>\n",
       "      <td>218</td>\n",
       "    </tr>\n",
       "    <tr>\n",
       "      <th>4</th>\n",
       "      <td>5</td>\n",
       "      <td>5.416667</td>\n",
       "      <td>8</td>\n",
       "      <td>12</td>\n",
       "    </tr>\n",
       "  </tbody>\n",
       "</table>\n",
       "</div>"
      ],
      "text/plain": [
       "   product_id  atco_per_prod  reord_per_prod  ord_per_prod\n",
       "0           1       5.647255             754          1202\n",
       "1           2      10.766667              10            60\n",
       "2           3       6.378238             146           193\n",
       "3           4       9.788991             104           218\n",
       "4           5       5.416667               8            12"
      ]
     },
     "execution_count": 23,
     "metadata": {},
     "output_type": "execute_result"
    }
   ],
   "source": [
    "df_product.head()"
   ]
  },
  {
   "cell_type": "code",
   "execution_count": 24,
   "metadata": {
    "collapsed": false
   },
   "outputs": [],
   "source": [
    "#df_products_prior = pd.merge(df_products_prior,df_product,on='product_id')\n",
    "#del df_product\n"
   ]
  },
  {
   "cell_type": "markdown",
   "metadata": {},
   "source": [
    "## Orders by day of week "
   ]
  },
  {
   "cell_type": "code",
   "execution_count": 25,
   "metadata": {
    "collapsed": false
   },
   "outputs": [
    {
     "data": {
      "text/html": [
       "<div>\n",
       "<table border=\"1\" class=\"dataframe\">\n",
       "  <thead>\n",
       "    <tr style=\"text-align: right;\">\n",
       "      <th></th>\n",
       "      <th>order_dow</th>\n",
       "      <th>reord_per_dow</th>\n",
       "      <th>ord_per_dow</th>\n",
       "    </tr>\n",
       "  </thead>\n",
       "  <tbody>\n",
       "    <tr>\n",
       "      <th>0</th>\n",
       "      <td>0</td>\n",
       "      <td>2315064</td>\n",
       "      <td>3958392</td>\n",
       "    </tr>\n",
       "    <tr>\n",
       "      <th>1</th>\n",
       "      <td>1</td>\n",
       "      <td>2174460</td>\n",
       "      <td>3601985</td>\n",
       "    </tr>\n",
       "    <tr>\n",
       "      <th>2</th>\n",
       "      <td>2</td>\n",
       "      <td>1581559</td>\n",
       "      <td>2681752</td>\n",
       "    </tr>\n",
       "    <tr>\n",
       "      <th>3</th>\n",
       "      <td>3</td>\n",
       "      <td>1428935</td>\n",
       "      <td>2438791</td>\n",
       "    </tr>\n",
       "    <tr>\n",
       "      <th>4</th>\n",
       "      <td>4</td>\n",
       "      <td>1422222</td>\n",
       "      <td>2406032</td>\n",
       "    </tr>\n",
       "  </tbody>\n",
       "</table>\n",
       "</div>"
      ],
      "text/plain": [
       "   order_dow  reord_per_dow  ord_per_dow\n",
       "0          0        2315064      3958392\n",
       "1          1        2174460      3601985\n",
       "2          2        1581559      2681752\n",
       "3          3        1428935      2438791\n",
       "4          4        1422222      2406032"
      ]
     },
     "execution_count": 25,
     "metadata": {},
     "output_type": "execute_result"
    }
   ],
   "source": [
    "df_order_dow = df_products_prior.groupby('order_dow')['reordered'].agg(['sum','count'])\n",
    "\n",
    "\n",
    "df_order_dow.rename(columns={'sum':'reord_per_dow',\n",
    "                             'count':'ord_per_dow'},inplace=True)\n",
    "\n",
    "df_order_dow['reord_per_dow'] = df_order_dow['reord_per_dow'].astype(np.uint32)\n",
    "df_order_dow['ord_per_dow'] = df_order_dow['ord_per_dow'].astype(np.uint32)\n",
    "df_order_dow.reset_index(inplace=True)\n",
    "\n",
    "df_order_dow.head()\n",
    "\n",
    "#df_products_prior = pd.merge(df_products_prior,df_order_dow,on='order_dow')\n",
    "#del df_order_dow"
   ]
  },
  {
   "cell_type": "markdown",
   "metadata": {},
   "source": [
    "## Orders by hour of day "
   ]
  },
  {
   "cell_type": "code",
   "execution_count": 26,
   "metadata": {
    "collapsed": false
   },
   "outputs": [
    {
     "data": {
      "text/html": [
       "<div>\n",
       "<table border=\"1\" class=\"dataframe\">\n",
       "  <thead>\n",
       "    <tr style=\"text-align: right;\">\n",
       "      <th></th>\n",
       "      <th>order_hod</th>\n",
       "      <th>reord_per_hod</th>\n",
       "      <th>ord_per_hod</th>\n",
       "    </tr>\n",
       "  </thead>\n",
       "  <tbody>\n",
       "    <tr>\n",
       "      <th>0</th>\n",
       "      <td>0</td>\n",
       "      <td>80066</td>\n",
       "      <td>141526</td>\n",
       "    </tr>\n",
       "    <tr>\n",
       "      <th>1</th>\n",
       "      <td>1</td>\n",
       "      <td>40944</td>\n",
       "      <td>73752</td>\n",
       "    </tr>\n",
       "    <tr>\n",
       "      <th>2</th>\n",
       "      <td>2</td>\n",
       "      <td>25481</td>\n",
       "      <td>45161</td>\n",
       "    </tr>\n",
       "    <tr>\n",
       "      <th>3</th>\n",
       "      <td>3</td>\n",
       "      <td>18858</td>\n",
       "      <td>33702</td>\n",
       "    </tr>\n",
       "    <tr>\n",
       "      <th>4</th>\n",
       "      <td>4</td>\n",
       "      <td>19923</td>\n",
       "      <td>34559</td>\n",
       "    </tr>\n",
       "  </tbody>\n",
       "</table>\n",
       "</div>"
      ],
      "text/plain": [
       "   order_hod  reord_per_hod  ord_per_hod\n",
       "0          0          80066       141526\n",
       "1          1          40944        73752\n",
       "2          2          25481        45161\n",
       "3          3          18858        33702\n",
       "4          4          19923        34559"
      ]
     },
     "execution_count": 26,
     "metadata": {},
     "output_type": "execute_result"
    }
   ],
   "source": [
    "df_order_hour_of_day = df_products_prior.groupby('order_hod')['reordered'].agg(['sum','count'])\n",
    "\n",
    "df_order_hour_of_day.rename(columns={'sum':'reord_per_hod',\n",
    "                                     'count':'ord_per_hod'},inplace=True)\n",
    "\n",
    "df_order_hour_of_day['reord_per_hod'] = df_order_hour_of_day['reord_per_hod'].astype(np.uint32)\n",
    "df_order_hour_of_day['ord_per_hod'] = df_order_hour_of_day['ord_per_hod'].astype(np.uint32)\n",
    "df_order_hour_of_day.reset_index(inplace=True)\n",
    "\n",
    "df_order_hour_of_day.head()\n",
    "\n",
    "#df_products_prior = pd.merge(df_products_prior,df_order_hour_of_day,on='order_hod')\n",
    "#del df_order_hour_of_day\n"
   ]
  },
  {
   "cell_type": "markdown",
   "metadata": {},
   "source": [
    "## Orders by hour of week "
   ]
  },
  {
   "cell_type": "code",
   "execution_count": 27,
   "metadata": {
    "collapsed": false
   },
   "outputs": [
    {
     "data": {
      "text/html": [
       "<div>\n",
       "<table border=\"1\" class=\"dataframe\">\n",
       "  <thead>\n",
       "    <tr style=\"text-align: right;\">\n",
       "      <th></th>\n",
       "      <th>order_how</th>\n",
       "      <th>reord_per_how</th>\n",
       "      <th>ord_per_how</th>\n",
       "    </tr>\n",
       "  </thead>\n",
       "  <tbody>\n",
       "    <tr>\n",
       "      <th>0</th>\n",
       "      <td>0</td>\n",
       "      <td>14791</td>\n",
       "      <td>25455</td>\n",
       "    </tr>\n",
       "    <tr>\n",
       "      <th>1</th>\n",
       "      <td>1</td>\n",
       "      <td>8179</td>\n",
       "      <td>14658</td>\n",
       "    </tr>\n",
       "    <tr>\n",
       "      <th>2</th>\n",
       "      <td>2</td>\n",
       "      <td>4842</td>\n",
       "      <td>8653</td>\n",
       "    </tr>\n",
       "    <tr>\n",
       "      <th>3</th>\n",
       "      <td>3</td>\n",
       "      <td>3613</td>\n",
       "      <td>6228</td>\n",
       "    </tr>\n",
       "    <tr>\n",
       "      <th>4</th>\n",
       "      <td>4</td>\n",
       "      <td>3127</td>\n",
       "      <td>5671</td>\n",
       "    </tr>\n",
       "  </tbody>\n",
       "</table>\n",
       "</div>"
      ],
      "text/plain": [
       "   order_how  reord_per_how  ord_per_how\n",
       "0          0          14791        25455\n",
       "1          1           8179        14658\n",
       "2          2           4842         8653\n",
       "3          3           3613         6228\n",
       "4          4           3127         5671"
      ]
     },
     "execution_count": 27,
     "metadata": {},
     "output_type": "execute_result"
    }
   ],
   "source": [
    "df_order_hour_of_week = df_products_prior.groupby('order_how')['reordered'].agg(['sum','count'])\n",
    "\n",
    "df_order_hour_of_week.rename(columns={'sum':'reord_per_how',\n",
    "                                     'count':'ord_per_how'},inplace=True)\n",
    "\n",
    "df_order_hour_of_week['reord_per_how'] = df_order_hour_of_week['reord_per_how'].astype(np.uint32)\n",
    "df_order_hour_of_week['ord_per_how'] = df_order_hour_of_week['ord_per_how'].astype(np.uint32)\n",
    "df_order_hour_of_week.reset_index(inplace=True)\n",
    "\n",
    "df_order_hour_of_week.head()\n",
    "\n",
    "#df_products_prior = pd.merge(df_products_prior,df_order_hour_of_week,on='order_how')\n",
    "#del df_order_hour_of_week"
   ]
  },
  {
   "cell_type": "markdown",
   "metadata": {},
   "source": [
    "## Orders by aisle id"
   ]
  },
  {
   "cell_type": "code",
   "execution_count": 28,
   "metadata": {
    "collapsed": false
   },
   "outputs": [
    {
     "data": {
      "text/html": [
       "<div>\n",
       "<table border=\"1\" class=\"dataframe\">\n",
       "  <thead>\n",
       "    <tr style=\"text-align: right;\">\n",
       "      <th></th>\n",
       "      <th>aisle_id</th>\n",
       "      <th>reord_per_aisle</th>\n",
       "      <th>ord_per_aisle</th>\n",
       "    </tr>\n",
       "  </thead>\n",
       "  <tbody>\n",
       "    <tr>\n",
       "      <th>0</th>\n",
       "      <td>1</td>\n",
       "      <td>26823</td>\n",
       "      <td>45333</td>\n",
       "    </tr>\n",
       "    <tr>\n",
       "      <th>1</th>\n",
       "      <td>2</td>\n",
       "      <td>25992</td>\n",
       "      <td>52765</td>\n",
       "    </tr>\n",
       "    <tr>\n",
       "      <th>2</th>\n",
       "      <td>3</td>\n",
       "      <td>171631</td>\n",
       "      <td>287781</td>\n",
       "    </tr>\n",
       "    <tr>\n",
       "      <th>3</th>\n",
       "      <td>4</td>\n",
       "      <td>62353</td>\n",
       "      <td>127342</td>\n",
       "    </tr>\n",
       "    <tr>\n",
       "      <th>4</th>\n",
       "      <td>5</td>\n",
       "      <td>11185</td>\n",
       "      <td>39900</td>\n",
       "    </tr>\n",
       "  </tbody>\n",
       "</table>\n",
       "</div>"
      ],
      "text/plain": [
       "   aisle_id  reord_per_aisle  ord_per_aisle\n",
       "0         1            26823          45333\n",
       "1         2            25992          52765\n",
       "2         3           171631         287781\n",
       "3         4            62353         127342\n",
       "4         5            11185          39900"
      ]
     },
     "execution_count": 28,
     "metadata": {},
     "output_type": "execute_result"
    }
   ],
   "source": [
    "df_order_aisle = df_products_prior.groupby('aisle_id')['reordered'].agg(['sum','count'])\n",
    "\n",
    "df_order_aisle.rename(columns={'sum':'reord_per_aisle',\n",
    "                                     'count':'ord_per_aisle'},inplace=True)\n",
    "\n",
    "df_order_aisle['reord_per_aisle'] = df_order_aisle['reord_per_aisle'].astype(np.uint32)\n",
    "df_order_aisle['ord_per_aisle'] = df_order_aisle['ord_per_aisle'].astype(np.uint32)\n",
    "df_order_aisle.reset_index(inplace=True)\n",
    "\n",
    "df_order_aisle.head()"
   ]
  },
  {
   "cell_type": "markdown",
   "metadata": {},
   "source": [
    "## Orders by department id"
   ]
  },
  {
   "cell_type": "code",
   "execution_count": 29,
   "metadata": {
    "collapsed": false
   },
   "outputs": [
    {
     "data": {
      "text/html": [
       "<div>\n",
       "<table border=\"1\" class=\"dataframe\">\n",
       "  <thead>\n",
       "    <tr style=\"text-align: right;\">\n",
       "      <th></th>\n",
       "      <th>department_id</th>\n",
       "      <th>reord_per_depart</th>\n",
       "      <th>ord_per_depart</th>\n",
       "    </tr>\n",
       "  </thead>\n",
       "  <tbody>\n",
       "    <tr>\n",
       "      <th>0</th>\n",
       "      <td>1</td>\n",
       "      <td>771688</td>\n",
       "      <td>1424216</td>\n",
       "    </tr>\n",
       "    <tr>\n",
       "      <th>1</th>\n",
       "      <td>2</td>\n",
       "      <td>9110</td>\n",
       "      <td>22684</td>\n",
       "    </tr>\n",
       "    <tr>\n",
       "      <th>2</th>\n",
       "      <td>3</td>\n",
       "      <td>468812</td>\n",
       "      <td>747555</td>\n",
       "    </tr>\n",
       "    <tr>\n",
       "      <th>3</th>\n",
       "      <td>4</td>\n",
       "      <td>3922714</td>\n",
       "      <td>6038459</td>\n",
       "    </tr>\n",
       "    <tr>\n",
       "      <th>4</th>\n",
       "      <td>5</td>\n",
       "      <td>51926</td>\n",
       "      <td>92605</td>\n",
       "    </tr>\n",
       "  </tbody>\n",
       "</table>\n",
       "</div>"
      ],
      "text/plain": [
       "   department_id  reord_per_depart  ord_per_depart\n",
       "0              1            771688         1424216\n",
       "1              2              9110           22684\n",
       "2              3            468812          747555\n",
       "3              4           3922714         6038459\n",
       "4              5             51926           92605"
      ]
     },
     "execution_count": 29,
     "metadata": {},
     "output_type": "execute_result"
    }
   ],
   "source": [
    "df_order_department = df_products_prior.groupby('department_id')['reordered'].agg(['sum','count'])\n",
    "\n",
    "df_order_department.rename(columns={'sum':'reord_per_depart',\n",
    "                                     'count':'ord_per_depart'},inplace=True)\n",
    "\n",
    "df_order_department['reord_per_depart'] = df_order_department['reord_per_depart'].astype(np.uint32)\n",
    "df_order_department['ord_per_depart'] = df_order_department['ord_per_depart'].astype(np.uint32)\n",
    "df_order_department.reset_index(inplace=True)\n",
    "\n",
    "df_order_department.head()"
   ]
  },
  {
   "cell_type": "markdown",
   "metadata": {},
   "source": [
    "## Orders by user ID"
   ]
  },
  {
   "cell_type": "code",
   "execution_count": 30,
   "metadata": {
    "collapsed": false
   },
   "outputs": [
    {
     "data": {
      "text/html": [
       "<div>\n",
       "<table border=\"1\" class=\"dataframe\">\n",
       "  <thead>\n",
       "    <tr style=\"text-align: right;\">\n",
       "      <th></th>\n",
       "      <th>user_id</th>\n",
       "      <th>reord_per_user</th>\n",
       "      <th>ord_per_user</th>\n",
       "    </tr>\n",
       "  </thead>\n",
       "  <tbody>\n",
       "    <tr>\n",
       "      <th>0</th>\n",
       "      <td>1</td>\n",
       "      <td>41</td>\n",
       "      <td>59</td>\n",
       "    </tr>\n",
       "    <tr>\n",
       "      <th>1</th>\n",
       "      <td>2</td>\n",
       "      <td>93</td>\n",
       "      <td>195</td>\n",
       "    </tr>\n",
       "    <tr>\n",
       "      <th>2</th>\n",
       "      <td>5</td>\n",
       "      <td>14</td>\n",
       "      <td>37</td>\n",
       "    </tr>\n",
       "    <tr>\n",
       "      <th>3</th>\n",
       "      <td>7</td>\n",
       "      <td>138</td>\n",
       "      <td>206</td>\n",
       "    </tr>\n",
       "    <tr>\n",
       "      <th>4</th>\n",
       "      <td>8</td>\n",
       "      <td>13</td>\n",
       "      <td>49</td>\n",
       "    </tr>\n",
       "  </tbody>\n",
       "</table>\n",
       "</div>"
      ],
      "text/plain": [
       "   user_id  reord_per_user  ord_per_user\n",
       "0        1              41            59\n",
       "1        2              93           195\n",
       "2        5              14            37\n",
       "3        7             138           206\n",
       "4        8              13            49"
      ]
     },
     "execution_count": 30,
     "metadata": {},
     "output_type": "execute_result"
    }
   ],
   "source": [
    "df_order_user = df_products_prior.groupby('user_id')['reordered'].agg(['sum','count'])\n",
    "\n",
    "\n",
    "df_order_user.rename(columns={'sum':'reord_per_user',\n",
    "                              'count':'ord_per_user'},inplace=True)\n",
    "\n",
    "df_order_user['reord_per_user'] = df_order_user['reord_per_user'].astype(np.uint32)\n",
    "df_order_user['ord_per_user'] = df_order_user['ord_per_user'].astype(np.uint32)\n",
    "df_order_user.reset_index(inplace=True)\n",
    "\n",
    "df_order_user.head()"
   ]
  },
  {
   "cell_type": "code",
   "execution_count": 31,
   "metadata": {
    "collapsed": false,
    "scrolled": true
   },
   "outputs": [],
   "source": [
    "#df_users.to_csv('data/order_users.csv')"
   ]
  },
  {
   "cell_type": "markdown",
   "metadata": {},
   "source": [
    "## Orders by users and by products id"
   ]
  },
  {
   "cell_type": "code",
   "execution_count": 32,
   "metadata": {
    "collapsed": false
   },
   "outputs": [],
   "source": [
    "def mean_days_between_orders(group):\n",
    "    if(len(group)>1):\n",
    "        return np.mean(np.diff(list(group.sort_values())))\n",
    "    else :\n",
    "        return group.values[0]\n",
    "\n",
    "Force = False\n",
    "pickle_name = 'mean_days_between_orders_'+eval_set+'.pkl'\n",
    "\n",
    "if Force == True:\n",
    "    mean_days_between_orders = df_products_prior.groupby(['user_id','product_id'])['dblo'].apply(mean_days_between_orders)\n",
    "    mean_days_between_orders.to_pickle('mean_days_between_orders_train.pkl')\n",
    "else :\n",
    "    mean_days_between_orders = pd.read_pickle(pickle_name)\n",
    "    "
   ]
  },
  {
   "cell_type": "code",
   "execution_count": 33,
   "metadata": {
    "collapsed": false
   },
   "outputs": [
    {
     "data": {
      "text/plain": [
       "user_id  product_id\n",
       "1        196           19.555556\n",
       "         10258         20.125000\n",
       "         10326         83.000000\n",
       "         12427         19.555556\n",
       "         13032         80.500000\n",
       "Name: dblo, dtype: float64"
      ]
     },
     "execution_count": 33,
     "metadata": {},
     "output_type": "execute_result"
    }
   ],
   "source": [
    "mean_days_between_orders.head()"
   ]
  },
  {
   "cell_type": "code",
   "execution_count": 34,
   "metadata": {
    "collapsed": false,
    "scrolled": true
   },
   "outputs": [],
   "source": [
    "df_userXproduct = df_products_prior.groupby(['user_id','product_id']).agg({'add_to_cart_order':np.mean,\n",
    "                                                                'reordered':'sum',\n",
    "                                                                'order_dow':np.mean,\n",
    "                                                                'order_hod':np.mean,\n",
    "                                                                'order_how':np.mean,\n",
    "                                                                'dblo': np.min,           \n",
    "                                                                'aisle_id':'last',\n",
    "                                                                'department_id':'last'})"
   ]
  },
  {
   "cell_type": "code",
   "execution_count": 35,
   "metadata": {
    "collapsed": false,
    "scrolled": false
   },
   "outputs": [
    {
     "data": {
      "text/html": [
       "<div>\n",
       "<table border=\"1\" class=\"dataframe\">\n",
       "  <thead>\n",
       "    <tr style=\"text-align: right;\">\n",
       "      <th></th>\n",
       "      <th></th>\n",
       "      <th>add_to_cart_order</th>\n",
       "      <th>order_hod</th>\n",
       "      <th>order_how</th>\n",
       "      <th>reordered</th>\n",
       "      <th>dblo</th>\n",
       "      <th>order_dow</th>\n",
       "      <th>aisle_id</th>\n",
       "      <th>department_id</th>\n",
       "    </tr>\n",
       "    <tr>\n",
       "      <th>user_id</th>\n",
       "      <th>product_id</th>\n",
       "      <th></th>\n",
       "      <th></th>\n",
       "      <th></th>\n",
       "      <th></th>\n",
       "      <th></th>\n",
       "      <th></th>\n",
       "      <th></th>\n",
       "      <th></th>\n",
       "    </tr>\n",
       "  </thead>\n",
       "  <tbody>\n",
       "    <tr>\n",
       "      <th rowspan=\"5\" valign=\"top\">1</th>\n",
       "      <th>196</th>\n",
       "      <td>1.400000</td>\n",
       "      <td>10.300000</td>\n",
       "      <td>70.300000</td>\n",
       "      <td>9.0</td>\n",
       "      <td>0</td>\n",
       "      <td>2.500000</td>\n",
       "      <td>77</td>\n",
       "      <td>7</td>\n",
       "    </tr>\n",
       "    <tr>\n",
       "      <th>10258</th>\n",
       "      <td>3.333333</td>\n",
       "      <td>10.555556</td>\n",
       "      <td>71.888889</td>\n",
       "      <td>8.0</td>\n",
       "      <td>0</td>\n",
       "      <td>2.555556</td>\n",
       "      <td>117</td>\n",
       "      <td>19</td>\n",
       "    </tr>\n",
       "    <tr>\n",
       "      <th>10326</th>\n",
       "      <td>5.000000</td>\n",
       "      <td>15.000000</td>\n",
       "      <td>111.000000</td>\n",
       "      <td>0.0</td>\n",
       "      <td>83</td>\n",
       "      <td>4.000000</td>\n",
       "      <td>24</td>\n",
       "      <td>4</td>\n",
       "    </tr>\n",
       "    <tr>\n",
       "      <th>12427</th>\n",
       "      <td>3.300000</td>\n",
       "      <td>10.300000</td>\n",
       "      <td>70.300000</td>\n",
       "      <td>9.0</td>\n",
       "      <td>0</td>\n",
       "      <td>2.500000</td>\n",
       "      <td>23</td>\n",
       "      <td>19</td>\n",
       "    </tr>\n",
       "    <tr>\n",
       "      <th>13032</th>\n",
       "      <td>6.333333</td>\n",
       "      <td>8.000000</td>\n",
       "      <td>72.000000</td>\n",
       "      <td>2.0</td>\n",
       "      <td>0</td>\n",
       "      <td>2.666667</td>\n",
       "      <td>121</td>\n",
       "      <td>14</td>\n",
       "    </tr>\n",
       "  </tbody>\n",
       "</table>\n",
       "</div>"
      ],
      "text/plain": [
       "                    add_to_cart_order  order_hod   order_how  reordered  dblo  \\\n",
       "user_id product_id                                                              \n",
       "1       196                  1.400000  10.300000   70.300000        9.0     0   \n",
       "        10258                3.333333  10.555556   71.888889        8.0     0   \n",
       "        10326                5.000000  15.000000  111.000000        0.0    83   \n",
       "        12427                3.300000  10.300000   70.300000        9.0     0   \n",
       "        13032                6.333333   8.000000   72.000000        2.0     0   \n",
       "\n",
       "                    order_dow  aisle_id  department_id  \n",
       "user_id product_id                                      \n",
       "1       196          2.500000        77              7  \n",
       "        10258        2.555556       117             19  \n",
       "        10326        4.000000        24              4  \n",
       "        12427        2.500000        23             19  \n",
       "        13032        2.666667       121             14  "
      ]
     },
     "execution_count": 35,
     "metadata": {},
     "output_type": "execute_result"
    }
   ],
   "source": [
    "df_userXproduct.head()"
   ]
  },
  {
   "cell_type": "code",
   "execution_count": 36,
   "metadata": {
    "collapsed": true
   },
   "outputs": [],
   "source": [
    "#df_userXproduct.columns = ['_'.join(col).strip() for col in df_userXproduct.columns.values]\n",
    "#df_userXproduct['reordered_ratio'] = df_userXproduct['reordered_sum'] / df_userXproduct['reordered_count']  \n",
    "#df_userXproduct['reordered_ratio'] = df_userXproduct['reordered_ratio'].astype(np.float32)\n",
    "\n",
    "#df_userXproduct.rename(columns={'aisle_id_last':'aisle_id','department_id_last':'department_id'},inplace=True)"
   ]
  },
  {
   "cell_type": "code",
   "execution_count": 37,
   "metadata": {
    "collapsed": true
   },
   "outputs": [],
   "source": [
    "df_userXproduct.rename(columns={'add_to_cart_order':'mean_atco',\n",
    "                               'order_how':'mean_order_how',\n",
    "                               'reordered':'number_reord',\n",
    "                               'order_hod':'mean_order_hod',\n",
    "                               'order_dow':'mean_order_dow',\n",
    "                               'dblo':'dslo',\n",
    "                               'aisle_id':'aisle_id',\n",
    "                               'department_id':'department_id'},inplace=True)\n",
    "    \n",
    "\n",
    "    \n",
    "df_userXproduct['number_reord'] = df_userXproduct['number_reord'].astype(np.uint8)\n",
    "df_userXproduct['mean_atco'] = df_userXproduct['mean_atco'].astype(np.float32)\n",
    "df_userXproduct['mean_order_how'] = df_userXproduct['mean_order_how'].astype(np.float32)\n",
    "df_userXproduct['mean_order_hod'] = df_userXproduct['mean_order_hod'].astype(np.float32)\n",
    "df_userXproduct['mean_order_dow'] = df_userXproduct['mean_order_dow'].astype(np.float32)"
   ]
  },
  {
   "cell_type": "code",
   "execution_count": 38,
   "metadata": {
    "collapsed": false
   },
   "outputs": [],
   "source": [
    "df_userXproduct = pd.concat([df_userXproduct,mean_days_between_orders],axis=1)"
   ]
  },
  {
   "cell_type": "code",
   "execution_count": 39,
   "metadata": {
    "collapsed": false
   },
   "outputs": [],
   "source": [
    "df_userXproduct = pd.merge(df_userXproduct.reset_index(),df_order_aisle,on='aisle_id')\n",
    "df_userXproduct = pd.merge(df_userXproduct,df_order_department,on='department_id').set_index(['user_id','product_id'])\n",
    "\n",
    "#del df_userXproduct['aisle_id']\n",
    "#del df_userXproduct['department_id']\n",
    "#del df_order_aisle\n",
    "#del df_order_department"
   ]
  },
  {
   "cell_type": "code",
   "execution_count": 40,
   "metadata": {
    "collapsed": false
   },
   "outputs": [],
   "source": [
    "#df_userXproduct = df_userXproduct.join(df_users)\n",
    "#del df_users\n",
    "df_userXproduct = pd.merge(df_userXproduct.reset_index(),df_users,\n",
    "                                        on='user_id').set_index(['user_id','product_id'])"
   ]
  },
  {
   "cell_type": "code",
   "execution_count": 41,
   "metadata": {
    "collapsed": false
   },
   "outputs": [],
   "source": [
    "df_userXproduct = pd.merge(df_userXproduct.reset_index(),df_order_dow,left_on='train_order_dow',right_on='order_dow')\n",
    "df_userXproduct = pd.merge(df_userXproduct,df_order_hour_of_day,left_on='train_order_hod',right_on='order_hod')\n",
    "df_userXproduct = pd.merge(df_userXproduct,df_order_hour_of_week,left_on='train_order_how',right_on='order_how').set_index(['user_id','product_id'])"
   ]
  },
  {
   "cell_type": "code",
   "execution_count": 42,
   "metadata": {
    "collapsed": false
   },
   "outputs": [],
   "source": [
    "df_userXproduct.drop(['aisle_id',\n",
    "                      'department_id',\n",
    "                     'train_order_dow',\n",
    "                     'train_order_hod',\n",
    "                     'train_order_how',\n",
    "                     'order_id'],axis='columns',inplace=True)"
   ]
  },
  {
   "cell_type": "code",
   "execution_count": 43,
   "metadata": {
    "collapsed": false
   },
   "outputs": [],
   "source": [
    "df_userXproduct.to_csv('data/userXproduct.csv')"
   ]
  },
  {
   "cell_type": "code",
   "execution_count": 44,
   "metadata": {
    "collapsed": true
   },
   "outputs": [],
   "source": [
    "#del df_userXproduct"
   ]
  },
  {
   "cell_type": "code",
   "execution_count": 45,
   "metadata": {
    "collapsed": false
   },
   "outputs": [
    {
     "name": "stdout",
     "output_type": "stream",
     "text": [
      "<class 'pandas.core.frame.DataFrame'>\n",
      "MultiIndex: 8474661 entries, (1, 196) to (72713, 2332)\n",
      "Data columns (total 22 columns):\n",
      "mean_atco             float32\n",
      "mean_order_hod        float32\n",
      "mean_order_how        float32\n",
      "number_reord          uint8\n",
      "dslo                  int64\n",
      "mean_order_dow        float32\n",
      "dblo                  float64\n",
      "reord_per_aisle       uint32\n",
      "ord_per_aisle         uint32\n",
      "reord_per_depart      uint32\n",
      "ord_per_depart        uint32\n",
      "train_order_number    uint8\n",
      "train_dspo            uint8\n",
      "order_dow             int64\n",
      "reord_per_dow         uint32\n",
      "ord_per_dow           uint32\n",
      "order_hod             int64\n",
      "reord_per_hod         uint32\n",
      "ord_per_hod           uint32\n",
      "order_how             int64\n",
      "reord_per_how         uint32\n",
      "ord_per_how           uint32\n",
      "dtypes: float32(4), float64(1), int64(4), uint32(10), uint8(3)\n",
      "memory usage: 866.2 MB\n"
     ]
    }
   ],
   "source": [
    "df_userXproduct.info(memory_usage='deep')"
   ]
  },
  {
   "cell_type": "code",
   "execution_count": 46,
   "metadata": {
    "collapsed": false
   },
   "outputs": [
    {
     "data": {
      "text/plain": [
       "Index                 69.242795\n",
       "mean_atco             33.898644\n",
       "mean_order_hod        33.898644\n",
       "mean_order_how        33.898644\n",
       "number_reord           8.474661\n",
       "dslo                  67.797288\n",
       "mean_order_dow        33.898644\n",
       "dblo                  67.797288\n",
       "reord_per_aisle       33.898644\n",
       "ord_per_aisle         33.898644\n",
       "reord_per_depart      33.898644\n",
       "ord_per_depart        33.898644\n",
       "train_order_number     8.474661\n",
       "train_dspo             8.474661\n",
       "order_dow             67.797288\n",
       "reord_per_dow         33.898644\n",
       "ord_per_dow           33.898644\n",
       "order_hod             67.797288\n",
       "reord_per_hod         33.898644\n",
       "ord_per_hod           33.898644\n",
       "order_how             67.797288\n",
       "reord_per_how         33.898644\n",
       "ord_per_how           33.898644\n",
       "dtype: float64"
      ]
     },
     "execution_count": 46,
     "metadata": {},
     "output_type": "execute_result"
    }
   ],
   "source": [
    "df_userXproduct.memory_usage()/1000000."
   ]
  },
  {
   "cell_type": "markdown",
   "metadata": {},
   "source": [
    "# Train dataset"
   ]
  },
  {
   "cell_type": "code",
   "execution_count": 47,
   "metadata": {
    "collapsed": false
   },
   "outputs": [
    {
     "name": "stdout",
     "output_type": "stream",
     "text": [
      "Reading the train products dataset...\n"
     ]
    }
   ],
   "source": [
    "print('Reading the train products dataset...')\n",
    "df_products_train = pd.read_csv('data/order_products__train.csv',dtype={'order_id':np.uint32,\n",
    "                                                                        'product_id':np.uint32,\n",
    "                                                                        'add_to_cart_order':np.uint8,\n",
    "                                                                        'reordered':np.bool})"
   ]
  },
  {
   "cell_type": "code",
   "execution_count": 48,
   "metadata": {
    "collapsed": true
   },
   "outputs": [],
   "source": [
    "del df_products_train['add_to_cart_order']\n",
    "df_products_train = df_products_train.loc[df_products_train.reordered==True]"
   ]
  },
  {
   "cell_type": "code",
   "execution_count": 49,
   "metadata": {
    "collapsed": false
   },
   "outputs": [],
   "source": [
    "df_products_train = df_products_train.merge(df_orders[['order_id','user_id']],on='order_id').sort_values(['user_id','product_id']).set_index(['user_id','product_id'])\n",
    "del df_products_train['order_id']"
   ]
  },
  {
   "cell_type": "code",
   "execution_count": 50,
   "metadata": {
    "collapsed": false
   },
   "outputs": [
    {
     "data": {
      "text/html": [
       "<div>\n",
       "<table border=\"1\" class=\"dataframe\">\n",
       "  <thead>\n",
       "    <tr style=\"text-align: right;\">\n",
       "      <th></th>\n",
       "      <th></th>\n",
       "      <th>reordered</th>\n",
       "    </tr>\n",
       "    <tr>\n",
       "      <th>user_id</th>\n",
       "      <th>product_id</th>\n",
       "      <th></th>\n",
       "    </tr>\n",
       "  </thead>\n",
       "  <tbody>\n",
       "    <tr>\n",
       "      <th rowspan=\"5\" valign=\"top\">1</th>\n",
       "      <th>196</th>\n",
       "      <td>True</td>\n",
       "    </tr>\n",
       "    <tr>\n",
       "      <th>10258</th>\n",
       "      <td>True</td>\n",
       "    </tr>\n",
       "    <tr>\n",
       "      <th>13032</th>\n",
       "      <td>True</td>\n",
       "    </tr>\n",
       "    <tr>\n",
       "      <th>25133</th>\n",
       "      <td>True</td>\n",
       "    </tr>\n",
       "    <tr>\n",
       "      <th>26088</th>\n",
       "      <td>True</td>\n",
       "    </tr>\n",
       "  </tbody>\n",
       "</table>\n",
       "</div>"
      ],
      "text/plain": [
       "                   reordered\n",
       "user_id product_id          \n",
       "1       196             True\n",
       "        10258           True\n",
       "        13032           True\n",
       "        25133           True\n",
       "        26088           True"
      ]
     },
     "execution_count": 50,
     "metadata": {},
     "output_type": "execute_result"
    }
   ],
   "source": [
    "df_products_train.head()"
   ]
  },
  {
   "cell_type": "code",
   "execution_count": 51,
   "metadata": {
    "collapsed": true
   },
   "outputs": [],
   "source": [
    "df_products_train.to_csv('data/target.csv')"
   ]
  }
 ],
 "metadata": {
  "kernelspec": {
   "display_name": "Python 2",
   "language": "python",
   "name": "python2"
  },
  "language_info": {
   "codemirror_mode": {
    "name": "ipython",
    "version": 2
   },
   "file_extension": ".py",
   "mimetype": "text/x-python",
   "name": "python",
   "nbconvert_exporter": "python",
   "pygments_lexer": "ipython2",
   "version": "2.7.13"
  }
 },
 "nbformat": 4,
 "nbformat_minor": 1
}
