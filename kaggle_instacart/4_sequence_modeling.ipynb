{
 "cells": [
  {
   "cell_type": "code",
   "execution_count": 1,
   "metadata": {
    "collapsed": true
   },
   "outputs": [],
   "source": [
    "import pandas as pd\n",
    "import matplotlib.pyplot as plt"
   ]
  },
  {
   "cell_type": "code",
   "execution_count": 2,
   "metadata": {
    "collapsed": false
   },
   "outputs": [
    {
     "name": "stdout",
     "output_type": "stream",
     "text": [
      "Reading the orders dataset...\n",
      "Reading the prior products dataset...\n",
      "Reading the train products dataset...\n"
     ]
    }
   ],
   "source": [
    "print ('Reading the orders dataset...')\n",
    "df_orders = pd.read_csv('data/orders.csv')\n",
    "print('Reading the prior products dataset...')\n",
    "df_products_prior = pd.read_csv('data/order_products__prior.csv')\n",
    "print('Reading the train products dataset...')\n",
    "df_products_train = pd.read_csv('data/order_products__train.csv')"
   ]
  },
  {
   "cell_type": "markdown",
   "metadata": {},
   "source": [
    "## Selection of orders¶"
   ]
  },
  {
   "cell_type": "code",
   "execution_count": 3,
   "metadata": {
    "collapsed": false
   },
   "outputs": [
    {
     "name": "stdout",
     "output_type": "stream",
     "text": [
      "Selecting orders to train on...\n",
      "Keeping some data for calculating the f1 score\n",
      "Creating a user dedicated dataframe...\n"
     ]
    }
   ],
   "source": [
    "print('Selecting orders to train on...')\n",
    "df_orders_train = df_orders.loc[df_orders['eval_set']=='train']\n",
    "print('Keeping some data for calculating the f1 score' )\n",
    "df_orders_test = df_orders_train[100000:]\n",
    "df_orders_train = df_orders_train[:100000]\n",
    "print('Creating a user dedicated dataframe...')\n",
    "df_users = df_orders_train[['user_id','order_number','order_dow','order_hour_of_day','days_since_prior_order']]\n",
    "df_users=df_users.set_index('user_id')\n",
    "df_users = df_users.rename(columns={'order_number':'train_order_number'})\n",
    "df_users=df_users.drop(['order_dow','order_hour_of_day'],axis=1)"
   ]
  },
  {
   "cell_type": "code",
   "execution_count": 18,
   "metadata": {
    "collapsed": true
   },
   "outputs": [],
   "source": [
    "df_products_prior = df_products_prior[0:10000]"
   ]
  },
  {
   "cell_type": "code",
   "execution_count": 19,
   "metadata": {
    "collapsed": false
   },
   "outputs": [],
   "source": [
    "ser = df_products_prior.product_id.value_counts()"
   ]
  },
  {
   "cell_type": "code",
   "execution_count": 20,
   "metadata": {
    "collapsed": false
   },
   "outputs": [
    {
     "data": {
      "text/plain": [
       "100.0"
      ]
     },
     "execution_count": 20,
     "metadata": {},
     "output_type": "execute_result"
    }
   ],
   "source": [
    "ser[ser<=600].sum()/(ser.sum()).astype(float)*100."
   ]
  },
  {
   "cell_type": "code",
   "execution_count": 22,
   "metadata": {
    "collapsed": false
   },
   "outputs": [
    {
     "data": {
      "text/plain": [
       "order_id\n",
       "2       [33120, 28985, 9327, 45918, 30035, 17794, 4014...\n",
       "3       [33754, 24838, 17704, 21903, 17668, 46667, 174...\n",
       "4       [46842, 26434, 39758, 27761, 10054, 21351, 225...\n",
       "5       [13176, 15005, 47329, 27966, 23909, 48370, 132...\n",
       "6                                   [40462, 15873, 41897]\n",
       "7                                          [34050, 46802]\n",
       "8                                                 [23423]\n",
       "9       [21405, 47890, 11182, 2014, 29193, 34203, 1499...\n",
       "10      [24852, 4796, 31717, 47766, 4605, 1529, 21137,...\n",
       "11                      [30162, 27085, 5994, 1313, 31506]\n",
       "12      [30597, 15221, 43772, 37886, 37215, 34335, 316...\n",
       "13      [17330, 27407, 35419, 196, 44635, 26878, 25783...\n",
       "14      [20392, 27845, 162, 2452, 8575, 41890, 39475, ...\n",
       "15                      [19660, 21195, 7461, 2996, 32463]\n",
       "16                                   [9755, 25466, 45437]\n",
       "18      [8021, 34969, 1000, 5212, 36011, 44632, 46969,...\n",
       "19                                  [42265, 24838, 41540]\n",
       "20      [35430, 47485, 7419, 5112, 33452, 24852, 42633...\n",
       "21                      [5009, 33106, 4149, 31478, 25718]\n",
       "22      [23909, 22754, 24852, 28993, 41273, 23341, 469...\n",
       "23      [25931, 35163, 29662, 26283, 47766, 12036, 134...\n",
       "24                                   [40078, 9065, 46175]\n",
       "25      [9755, 31487, 37510, 14576, 22105, 1934, 6383,...\n",
       "26      [35951, 24852, 46206, 25890, 33120, 21903, 405...\n",
       "27      [13176, 30442, 13646, 21019, 38226, 18479, 477...\n",
       "28      [35108, 40593, 17461, 22825, 25256, 47626, 372...\n",
       "29                     [43352, 21386, 13176, 8571, 33768]\n",
       "30                                   [48559, 1158, 42944]\n",
       "31      [48946, 22935, 21903, 31717, 4920, 25647, 4915...\n",
       "32      [12384, 15991, 13176, 20995, 18362, 35887, 496...\n",
       "                              ...                        \n",
       "992     [33642, 35734, 47209, 4461, 24489, 26604, 651,...\n",
       "993     [11520, 40516, 47766, 8518, 24964, 21938, 4500...\n",
       "994     [35221, 21288, 43352, 41787, 24852, 25890, 131...\n",
       "995      [31338, 43523, 16365, 5513, 14063, 34619, 35909]\n",
       "996                                               [43122]\n",
       "997              [37462, 45603, 36397, 21903, 1158, 4429]\n",
       "998     [19436, 13176, 25890, 5451, 42719, 581, 46979,...\n",
       "999                     [37152, 43619, 5445, 4289, 34423]\n",
       "1000      [20073, 34590, 35951, 3025, 35734, 26800, 8981]\n",
       "1002    [37001, 23081, 42479, 38312, 15984, 13176, 472...\n",
       "1003    [37646, 27966, 13751, 15740, 8516, 11193, 2613...\n",
       "1004      [49618, 17948, 329, 21405, 40706, 21903, 30391]\n",
       "1005    [4193, 47209, 27845, 35951, 33120, 5825, 24489...\n",
       "1006    [47144, 9075, 4605, 1006, 24571, 19488, 32330,...\n",
       "1007    [23044, 30489, 13176, 5785, 47059, 48628, 3274...\n",
       "1008                                         [210, 20070]\n",
       "1009    [21903, 41593, 49235, 45613, 5212, 11865, 1494...\n",
       "1010            [24852, 22035, 39928, 35503, 6104, 27845]\n",
       "1011                  [21137, 32689, 19057, 44142, 14992]\n",
       "1012                           [20622, 5876, 23565, 4367]\n",
       "1013    [45013, 28204, 40612, 21137, 47209, 17949, 220...\n",
       "1014    [11422, 40877, 39649, 7177, 23614, 21949, 4681...\n",
       "1015    [49235, 42633, 18340, 40229, 34034, 45646, 475...\n",
       "1016                         [38152, 12916, 36126, 32175]\n",
       "1017    [31737, 24852, 14089, 781, 6193, 24841, 22035,...\n",
       "1018    [37029, 5212, 28577, 35628, 5077, 43961, 21903...\n",
       "1019    [43295, 32566, 24852, 24838, 31578, 49520, 234...\n",
       "1020    [23226, 11456, 47438, 41290, 4146, 31066, 4353...\n",
       "1021                                       [18615, 19508]\n",
       "1022                  [21903, 38689, 30391, 18670, 10761]\n",
       "Name: product_id, dtype: object"
      ]
     },
     "execution_count": 22,
     "metadata": {},
     "output_type": "execute_result"
    }
   ],
   "source": [
    "df_products_prior.groupby('order_id')['product_id'].apply(list)"
   ]
  }
 ],
 "metadata": {
  "kernelspec": {
   "display_name": "Python 2",
   "language": "python",
   "name": "python2"
  },
  "language_info": {
   "codemirror_mode": {
    "name": "ipython",
    "version": 2
   },
   "file_extension": ".py",
   "mimetype": "text/x-python",
   "name": "python",
   "nbconvert_exporter": "python",
   "pygments_lexer": "ipython2",
   "version": "2.7.13"
  }
 },
 "nbformat": 4,
 "nbformat_minor": 1
}
