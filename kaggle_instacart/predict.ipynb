{
 "cells": [
  {
   "cell_type": "code",
   "execution_count": 1,
   "metadata": {
    "collapsed": true
   },
   "outputs": [],
   "source": [
    "import pandas as pd\n",
    "import matplotlib.pyplot as plt\n",
    "\n",
    "%matplotlib inline"
   ]
  },
  {
   "cell_type": "code",
   "execution_count": 2,
   "metadata": {
    "collapsed": true
   },
   "outputs": [],
   "source": [
    "df_userXproduct = pd.read_csv('data/userXproduct.csv',index_col=['user_id','product_id'],#nrows=10000,\n",
    "                             dtype={'user_id':np.uint32,\n",
    "                                    'product_id':np.uint32,\n",
    "                                    'mean_atco':np.float32,\n",
    "                                    'mean_order_how':np.float32,\n",
    "                                    'number_reord':np.uint8,\n",
    "                                    'dblo_mean':np.float32,\n",
    "                                    'dslo':np.uint8,\n",
    "                                    'mean_order_hod':np.float32,\n",
    "                                    'mean_order_dow':np.float32,\n",
    "                                    'reord_per_aisle':np.uint32,\n",
    "                                    'reord_per_depart':np.uint32,\n",
    "                                    'train_order_number':np.uint8,\n",
    "                                    'train_dspo':np.float16,\n",
    "                                    'reord_per_user':np.uint16,\n",
    "                                    'reord_per_dow':np.uint32,\n",
    "                                    'reord_per_hod':np.uint32,\n",
    "                                    'reord_per_how':np.uint32,})"
   ]
  },
  {
   "cell_type": "code",
   "execution_count": 3,
   "metadata": {
    "collapsed": false
   },
   "outputs": [],
   "source": [
    "df_target  = pd.read_csv('data/target_train.csv',index_col=['user_id','product_id'])\n",
    "df_userXproduct = df_userXproduct.join(df_target)\n",
    "df_userXproduct.fillna(False,inplace=True)"
   ]
  },
  {
   "cell_type": "code",
   "execution_count": 4,
   "metadata": {
    "collapsed": true
   },
   "outputs": [],
   "source": [
    "df_userXproduct['reordered_ratio'] = df_userXproduct['number_reord'] /(df_userXproduct['train_order_number']-1.)"
   ]
  },
  {
   "cell_type": "code",
   "execution_count": 5,
   "metadata": {
    "collapsed": false,
    "scrolled": true
   },
   "outputs": [
    {
     "data": {
      "text/plain": [
       "array(['mean_atco', 'mean_order_hod', 'mean_order_how', 'number_reord',\n",
       "       'dblo_mean', 'dslo', 'mean_order_dow', 'reord_per_aisle',\n",
       "       'reord_per_depart', 'train_order_number', 'train_dspo',\n",
       "       'reord_per_user', 'reord_per_dow', 'reord_per_hod', 'reord_per_how',\n",
       "       'reordered', 'reordered_ratio'], dtype=object)"
      ]
     },
     "execution_count": 5,
     "metadata": {},
     "output_type": "execute_result"
    }
   ],
   "source": [
    "df_userXproduct.columns.values"
   ]
  },
  {
   "cell_type": "code",
   "execution_count": 6,
   "metadata": {
    "collapsed": false
   },
   "outputs": [
    {
     "name": "stdout",
     "output_type": "stream",
     "text": [
      "(4833292, 18)\n",
      "(4833292, 3)\n"
     ]
    }
   ],
   "source": [
    "X = df_userXproduct.reset_index()[['user_id',\n",
    "                                   'product_id',\n",
    "                                   'mean_atco', \n",
    "                                   'mean_order_how', \n",
    "                                   'number_reord', \n",
    "                                   'dblo_mean', \n",
    "                                   'dslo',\n",
    "                                   'mean_order_hod',\n",
    "                                   'mean_order_dow', \n",
    "                                   'reord_per_aisle', \n",
    "                                   'reord_per_depart',\n",
    "                                   'train_order_number', \n",
    "                                   'train_dspo', \n",
    "                                   'reord_per_user',\n",
    "                                   'reord_per_dow', \n",
    "                                   'reord_per_hod', \n",
    "                                   'reord_per_how', \n",
    "                                   'reordered_ratio'\n",
    "                                    ]].values\n",
    "\n",
    "y = df_userXproduct.reset_index()[['user_id','product_id','reordered']].values\n",
    "\n",
    "print(X.shape)\n",
    "print(y.shape)"
   ]
  },
  {
   "cell_type": "markdown",
   "metadata": {},
   "source": [
    "# Neural net"
   ]
  },
  {
   "cell_type": "code",
   "execution_count": 7,
   "metadata": {
    "collapsed": false
   },
   "outputs": [
    {
     "name": "stderr",
     "output_type": "stream",
     "text": [
      "Using TensorFlow backend.\n"
     ]
    }
   ],
   "source": [
    "from keras.models import Sequential\n",
    "from keras.layers import Dense\n",
    "\n",
    "# fix random seed for reproducibility\n",
    "np.random.seed(7)\n",
    "from keras.callbacks import EarlyStopping\n",
    "from sklearn.model_selection import train_test_split\n",
    "from keras.preprocessing import sequence\n",
    "from keras.utils.np_utils import to_categorical\n",
    "\n",
    "from sklearn.metrics import classification_report\n",
    "from sklearn.metrics import confusion_matrix\n",
    "from sklearn.metrics import roc_curve\n",
    "from sklearn.metrics import roc_auc_score\n",
    "from sklearn.preprocessing import scale"
   ]
  },
  {
   "cell_type": "code",
   "execution_count": 8,
   "metadata": {
    "collapsed": false
   },
   "outputs": [],
   "source": [
    "X[:,2:] = scale(X[:,2:],axis=0)"
   ]
  },
  {
   "cell_type": "markdown",
   "metadata": {},
   "source": [
    "# Prediction"
   ]
  },
  {
   "cell_type": "code",
   "execution_count": 9,
   "metadata": {
    "collapsed": false
   },
   "outputs": [],
   "source": [
    "#from keras.models import load_model\n",
    "#model = load_model('model_file2.h5')\n",
    "\n",
    "#y_pred = np.append(y,model.predict(X[:,2:]),axis=1)"
   ]
  },
  {
   "cell_type": "code",
   "execution_count": 20,
   "metadata": {
    "collapsed": false
   },
   "outputs": [
    {
     "ename": "AttributeError",
     "evalue": "'Booster' object has no attribute 'predict_proba'",
     "output_type": "error",
     "traceback": [
      "\u001b[0;31m---------------------------------------------------------------------------\u001b[0m",
      "\u001b[0;31mAttributeError\u001b[0m                            Traceback (most recent call last)",
      "\u001b[0;32m<ipython-input-20-b0e823788c69>\u001b[0m in \u001b[0;36m<module>\u001b[0;34m()\u001b[0m\n\u001b[1;32m      3\u001b[0m \u001b[0;31m# load model from file\u001b[0m\u001b[0;34m\u001b[0m\u001b[0;34m\u001b[0m\u001b[0m\n\u001b[1;32m      4\u001b[0m \u001b[0mloaded_model\u001b[0m \u001b[0;34m=\u001b[0m \u001b[0mpickle\u001b[0m\u001b[0;34m.\u001b[0m\u001b[0mload\u001b[0m\u001b[0;34m(\u001b[0m\u001b[0mopen\u001b[0m\u001b[0;34m(\u001b[0m\u001b[0;34m\"model_xgb.dat\"\u001b[0m\u001b[0;34m,\u001b[0m \u001b[0;34m\"rb\"\u001b[0m\u001b[0;34m)\u001b[0m\u001b[0;34m)\u001b[0m\u001b[0;34m\u001b[0m\u001b[0m\n\u001b[0;32m----> 5\u001b[0;31m \u001b[0my_pred\u001b[0m \u001b[0;34m=\u001b[0m \u001b[0mnp\u001b[0m\u001b[0;34m.\u001b[0m\u001b[0mappend\u001b[0m\u001b[0;34m(\u001b[0m\u001b[0my\u001b[0m\u001b[0;34m,\u001b[0m\u001b[0mloaded_model\u001b[0m\u001b[0;34m.\u001b[0m\u001b[0mpredict_proba\u001b[0m\u001b[0;34m(\u001b[0m\u001b[0mX\u001b[0m\u001b[0;34m[\u001b[0m\u001b[0;34m:\u001b[0m\u001b[0;34m,\u001b[0m\u001b[0;36m2\u001b[0m\u001b[0;34m:\u001b[0m\u001b[0;34m]\u001b[0m\u001b[0;34m)\u001b[0m\u001b[0;34m,\u001b[0m\u001b[0maxis\u001b[0m\u001b[0;34m=\u001b[0m\u001b[0;36m1\u001b[0m\u001b[0;34m)\u001b[0m\u001b[0;34m\u001b[0m\u001b[0m\n\u001b[0m",
      "\u001b[0;31mAttributeError\u001b[0m: 'Booster' object has no attribute 'predict_proba'"
     ]
    }
   ],
   "source": [
    "import xgboost as xgb\n",
    "# load model from file\n",
    "loaded_model = xgb.load_model(\"model_xgb.xgb\")\n",
    "#y_pred = np.append(y,loaded_model.predict_proba(X[:,2:]),axis=1)"
   ]
  },
  {
   "cell_type": "code",
   "execution_count": null,
   "metadata": {
    "collapsed": true
   },
   "outputs": [],
   "source": [
    "dtest  = xgb.DMatrix(X[:,2:])\n",
    "preds = loaded_model.predict(dtest)"
   ]
  },
  {
   "cell_type": "code",
   "execution_count": 23,
   "metadata": {
    "collapsed": false
   },
   "outputs": [],
   "source": [
    "df_resultats = pd.DataFrame(y,columns=['user_id','product_id','test'])\n",
    "df_resultats['pred_false'] = 0. \n",
    "df_resultats['pred_true'] = preds"
   ]
  },
  {
   "cell_type": "code",
   "execution_count": null,
   "metadata": {
    "collapsed": true
   },
   "outputs": [],
   "source": [
    "df_resultats = pd.DataFrame(y_pred,columns=['user_id','product_id','test','pred_false','pred_true'])\n",
    "                        "
   ]
  },
  {
   "cell_type": "code",
   "execution_count": 24,
   "metadata": {
    "collapsed": false
   },
   "outputs": [],
   "source": [
    "df_resultats = df_resultats.set_index(['user_id','product_id'])\n",
    "df_resultats['test'] = df_resultats['test'].astype(np.bool)\n",
    "#df_resultats['pred_false'] = df_resultats['pred_false'].astype(np.float32)\n",
    "df_resultats['pred_true'] = df_resultats['pred_true'].astype(np.float32)\n",
    "del df_resultats['pred_false']\n",
    "#df_resultats.head()"
   ]
  },
  {
   "cell_type": "code",
   "execution_count": 25,
   "metadata": {
    "collapsed": false
   },
   "outputs": [
    {
     "name": "stdout",
     "output_type": "stream",
     "text": [
      "Reading the orders dataset...\n"
     ]
    }
   ],
   "source": [
    "print ('Reading the orders dataset...')\n",
    "df_orders = pd.read_csv('data/orders.csv',dtype={'order_id':np.uint32,\n",
    "                                                 'user_id':np.uint32,\n",
    "                                                 'order_number':np.uint8,\n",
    "                                                 'order_dow':np.uint8,\n",
    "                                                 'order_hour_of_day':np.uint8,\n",
    "                                                 'days_since_prior_order':np.float16})\n",
    "\n",
    "df_orders_test = df_orders.loc[df_orders['eval_set']=='test']"
   ]
  },
  {
   "cell_type": "code",
   "execution_count": 26,
   "metadata": {
    "collapsed": true
   },
   "outputs": [],
   "source": [
    "def output_pred(df_resultats,decision_threshold):\n",
    "    df_res = df_resultats.loc[df_resultats['pred_true']>decision_threshold].reset_index()\n",
    "    df_res = df_res.groupby(['user_id'])['product_id'].apply(lambda x : ' '.join(x.astype(str)))\n",
    "\n",
    "    df_a_soumettre = df_orders_test.join(df_res,on='user_id')[['order_id','product_id']].sort_values('order_id')\n",
    "    df_a_soumettre = df_a_soumettre.fillna('None')\n",
    "\n",
    "    df_a_soumettre.to_csv('soumission.csv',sep=',',\n",
    "                                 index=False,\n",
    "                                 header=['order_id','products'],\n",
    "                                 quoting=False)\n",
    "    return df_a_soumettre"
   ]
  },
  {
   "cell_type": "code",
   "execution_count": 27,
   "metadata": {
    "collapsed": false
   },
   "outputs": [
    {
     "data": {
      "text/plain": [
       "(75000, 2)"
      ]
     },
     "execution_count": 27,
     "metadata": {},
     "output_type": "execute_result"
    }
   ],
   "source": [
    "df = output_pred(df_resultats,0.68)\n",
    "df.shape"
   ]
  }
 ],
 "metadata": {
  "kernelspec": {
   "display_name": "Python 2",
   "language": "python",
   "name": "python2"
  },
  "language_info": {
   "codemirror_mode": {
    "name": "ipython",
    "version": 2
   },
   "file_extension": ".py",
   "mimetype": "text/x-python",
   "name": "python",
   "nbconvert_exporter": "python",
   "pygments_lexer": "ipython2",
   "version": "2.7.13"
  }
 },
 "nbformat": 4,
 "nbformat_minor": 1
}
