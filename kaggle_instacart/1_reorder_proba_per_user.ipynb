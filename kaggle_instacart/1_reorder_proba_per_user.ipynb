{
 "cells": [
  {
   "cell_type": "markdown",
   "metadata": {},
   "source": [
    "## First Attempt"
   ]
  },
  {
   "cell_type": "markdown",
   "metadata": {},
   "source": [
    "The idea for this very first basic attempt is to compute the probability for a user to reorder a product based on its previous orders."
   ]
  },
  {
   "cell_type": "code",
   "execution_count": 1,
   "metadata": {
    "collapsed": true
   },
   "outputs": [],
   "source": [
    "import pandas as pd\n",
    "import matplotlib.pyplot as plt"
   ]
  },
  {
   "cell_type": "code",
   "execution_count": 2,
   "metadata": {
    "collapsed": false
   },
   "outputs": [
    {
     "name": "stdout",
     "output_type": "stream",
     "text": [
      "Reading the orders dataset...\n",
      "Reading the prior products dataset...\n",
      "Merging the 2 datasets to get user id for every each order...\n"
     ]
    }
   ],
   "source": [
    "print ('Reading the orders dataset...')\n",
    "df_orders = pd.read_csv('data/orders.csv')\n",
    "\n",
    "#Selecting the test orders to get the corresponding user_id \n",
    "df_test  = df_orders.loc[df_orders.eval_set=='test',['order_id','user_id','order_number']]\n",
    "user_ids = df_test['user_id'].values\n",
    "order_ids = df_test['order_id'].values\n",
    "df_orders = df_orders[df_orders['user_id'].isin(user_ids)]\n",
    "\n",
    "print('Reading the prior products dataset...')\n",
    "df_products_prior = pd.read_csv('data/order_products__prior.csv')\n",
    "\n",
    "print ('Merging the 2 datasets to get user id for every each order...')\n",
    "merged = pd.merge(df_orders,df_products_prior,on='order_id')"
   ]
  },
  {
   "cell_type": "code",
   "execution_count": 3,
   "metadata": {
    "collapsed": false
   },
   "outputs": [
    {
     "name": "stdout",
     "output_type": "stream",
     "text": [
      "Computing the number of times each product has been ordered by an user.\n"
     ]
    },
    {
     "data": {
      "text/plain": [
       "user_id  product_id\n",
       "3        248           1\n",
       "         1005          1\n",
       "         1819          3\n",
       "         7503          1\n",
       "         8021          1\n",
       "Name: reordered, dtype: int64"
      ]
     },
     "execution_count": 3,
     "metadata": {},
     "output_type": "execute_result"
    }
   ],
   "source": [
    "print('Computing the number of times each product has been ordered by an user.')\n",
    "grouped = merged.groupby(['user_id','product_id'])['reordered'].count()\n",
    "grouped.head()"
   ]
  },
  {
   "cell_type": "code",
   "execution_count": 4,
   "metadata": {
    "collapsed": false
   },
   "outputs": [],
   "source": [
    "#making the grouped series a dataframe again to be able to merge it with df_test\n",
    "grouped = pd.DataFrame(grouped).reset_index()"
   ]
  },
  {
   "cell_type": "code",
   "execution_count": 5,
   "metadata": {
    "collapsed": false
   },
   "outputs": [
    {
     "name": "stdout",
     "output_type": "stream",
     "text": [
      "Merging dataframes...\n",
      "Computing the probabilities to order per product and per user...\n",
      "Randomly sampling the uniform distribution...\n",
      "Will the product be ordered again or not??? Depends on the proba_reorder and the random number...\n"
     ]
    },
    {
     "data": {
      "text/html": [
       "<div>\n",
       "<table border=\"1\" class=\"dataframe\">\n",
       "  <thead>\n",
       "    <tr style=\"text-align: right;\">\n",
       "      <th></th>\n",
       "      <th>user_id</th>\n",
       "      <th>product_id</th>\n",
       "      <th>reordered</th>\n",
       "      <th>order_id</th>\n",
       "      <th>order_number</th>\n",
       "      <th>proba_reorder</th>\n",
       "      <th>alea</th>\n",
       "      <th>will_be_reordered</th>\n",
       "    </tr>\n",
       "  </thead>\n",
       "  <tbody>\n",
       "    <tr>\n",
       "      <th>0</th>\n",
       "      <td>3</td>\n",
       "      <td>248</td>\n",
       "      <td>1</td>\n",
       "      <td>2774568</td>\n",
       "      <td>13</td>\n",
       "      <td>0.083333</td>\n",
       "      <td>0.075056</td>\n",
       "      <td>True</td>\n",
       "    </tr>\n",
       "    <tr>\n",
       "      <th>1</th>\n",
       "      <td>3</td>\n",
       "      <td>1005</td>\n",
       "      <td>1</td>\n",
       "      <td>2774568</td>\n",
       "      <td>13</td>\n",
       "      <td>0.083333</td>\n",
       "      <td>0.646019</td>\n",
       "      <td>False</td>\n",
       "    </tr>\n",
       "    <tr>\n",
       "      <th>2</th>\n",
       "      <td>3</td>\n",
       "      <td>1819</td>\n",
       "      <td>3</td>\n",
       "      <td>2774568</td>\n",
       "      <td>13</td>\n",
       "      <td>0.250000</td>\n",
       "      <td>0.656301</td>\n",
       "      <td>False</td>\n",
       "    </tr>\n",
       "    <tr>\n",
       "      <th>3</th>\n",
       "      <td>3</td>\n",
       "      <td>7503</td>\n",
       "      <td>1</td>\n",
       "      <td>2774568</td>\n",
       "      <td>13</td>\n",
       "      <td>0.083333</td>\n",
       "      <td>0.420031</td>\n",
       "      <td>False</td>\n",
       "    </tr>\n",
       "    <tr>\n",
       "      <th>4</th>\n",
       "      <td>3</td>\n",
       "      <td>8021</td>\n",
       "      <td>1</td>\n",
       "      <td>2774568</td>\n",
       "      <td>13</td>\n",
       "      <td>0.083333</td>\n",
       "      <td>0.239017</td>\n",
       "      <td>False</td>\n",
       "    </tr>\n",
       "  </tbody>\n",
       "</table>\n",
       "</div>"
      ],
      "text/plain": [
       "   user_id  product_id  reordered  order_id  order_number  proba_reorder  \\\n",
       "0        3         248          1   2774568            13       0.083333   \n",
       "1        3        1005          1   2774568            13       0.083333   \n",
       "2        3        1819          3   2774568            13       0.250000   \n",
       "3        3        7503          1   2774568            13       0.083333   \n",
       "4        3        8021          1   2774568            13       0.083333   \n",
       "\n",
       "       alea will_be_reordered  \n",
       "0  0.075056              True  \n",
       "1  0.646019             False  \n",
       "2  0.656301             False  \n",
       "3  0.420031             False  \n",
       "4  0.239017             False  "
      ]
     },
     "execution_count": 5,
     "metadata": {},
     "output_type": "execute_result"
    }
   ],
   "source": [
    "np.random.seed(343)\n",
    "print('Merging dataframes...')\n",
    "merged = pd.merge(grouped,df_test,on='user_id',how='right')\n",
    "print('Computing the probabilities to order per product and per user...')\n",
    "merged['proba_reorder'] = merged['reordered'] / (merged['order_number'] -1.)\n",
    "print('Randomly sampling the uniform distribution...')\n",
    "merged['alea'] =  np.random.uniform(size=merged.shape[0])\n",
    "print('Will the product be ordered again or not??? Depends on the proba_reorder and the random number...')\n",
    "merged['will_be_reordered'] = merged.apply(lambda x : (x['alea']<x['proba_reorder']),axis=1)\n",
    "merged.head()\n"
   ]
  },
  {
   "cell_type": "code",
   "execution_count": 6,
   "metadata": {
    "collapsed": false
   },
   "outputs": [
    {
     "data": {
      "text/plain": [
       "order_id\n",
       "17                    6291 13107 13535 31964 44056 48896\n",
       "34     2596 6317 10132 12456 18441 31533 39180 44663 ...\n",
       "137    2326 5134 8357 9515 25890 26209 41787 43068 44...\n",
       "182    1244 5479 6972 13629 28800 32537 37642 37687 3...\n",
       "257    1025 2063 11140 15438 24852 24964 27104 28476 ...\n",
       "Name: product_id, dtype: object"
      ]
     },
     "execution_count": 6,
     "metadata": {},
     "output_type": "execute_result"
    }
   ],
   "source": [
    "#keeping only the products that will be reordered\n",
    "merged = merged[merged['will_be_reordered']]\n",
    "#liste = merged.groupby('order_id')['product_id'].apply(list)\n",
    "#merging them all in a string\n",
    "next_orders = merged.groupby('order_id')['product_id'].apply(lambda x : ' '.join(x.astype(str)))\n",
    "next_orders.head()"
   ]
  },
  {
   "cell_type": "code",
   "execution_count": 7,
   "metadata": {
    "collapsed": false
   },
   "outputs": [
    {
     "name": "stdout",
     "output_type": "stream",
     "text": [
      "next_orders entries : (74553,), df_test entrie : (75000, 3)\n",
      "Sorting index...\n",
      "Filling NA with None\n"
     ]
    }
   ],
   "source": [
    "print ('next_orders entries : {}, df_test entrie : {}'.format(next_orders.shape,df_test.shape))\n",
    "#Need to get back the index from original test set\n",
    "print('Sorting index...')\n",
    "df_test = df_test.sort_values('order_id')\n",
    "next_orders = next_orders.reindex(df_test.order_id)\n",
    "print('Filling NA with None')\n",
    "next_orders = next_orders.fillna('None')"
   ]
  },
  {
   "cell_type": "code",
   "execution_count": 8,
   "metadata": {
    "collapsed": false
   },
   "outputs": [],
   "source": [
    "dataframe_a_soumettre = next_orders.reset_index()\n",
    "dataframe_a_soumettre.to_csv('soumission.csv',sep=',',\n",
    "                             index=False,\n",
    "                             header=['order_id','products'],\n",
    "                             quoting=False)\n"
   ]
  },
  {
   "cell_type": "markdown",
   "metadata": {},
   "source": [
    "Kaggle F1 Score on Public LeaderBoard : 0.2382460 "
   ]
  }
 ],
 "metadata": {
  "kernelspec": {
   "display_name": "Python 2",
   "language": "python",
   "name": "python2"
  },
  "language_info": {
   "codemirror_mode": {
    "name": "ipython",
    "version": 2
   },
   "file_extension": ".py",
   "mimetype": "text/x-python",
   "name": "python",
   "nbconvert_exporter": "python",
   "pygments_lexer": "ipython2",
   "version": "2.7.13"
  }
 },
 "nbformat": 4,
 "nbformat_minor": 1
}
