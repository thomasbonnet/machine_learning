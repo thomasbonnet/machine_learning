{
 "cells": [
  {
   "cell_type": "code",
   "execution_count": 1,
   "metadata": {
    "collapsed": true
   },
   "outputs": [],
   "source": [
    "import pandas as pd\n",
    "import matplotlib.pyplot as plt"
   ]
  },
  {
   "cell_type": "code",
   "execution_count": 2,
   "metadata": {
    "collapsed": false
   },
   "outputs": [
    {
     "name": "stdout",
     "output_type": "stream",
     "text": [
      "Reading the orders dataset...\n"
     ]
    }
   ],
   "source": [
    "print ('Reading the orders dataset...')\n",
    "df_orders = pd.read_csv('data/orders.csv',dtype={'order_id':np.uint32,\n",
    "                                                 'user_id':np.uint32,\n",
    "                                                 'order_number':np.uint8,\n",
    "                                                 'order_dow':np.uint8,\n",
    "                                                 'order_hour_of_day':np.uint8,\n",
    "                                                 'days_since_prior_order':np.float16})"
   ]
  },
  {
   "cell_type": "code",
   "execution_count": 3,
   "metadata": {
    "collapsed": false
   },
   "outputs": [
    {
     "name": "stdout",
     "output_type": "stream",
     "text": [
      "Reading the prior products dataset...\n"
     ]
    }
   ],
   "source": [
    "print('Reading the prior products dataset...')\n",
    "df_products_prior = pd.read_csv('data/order_products__prior.csv',dtype={'order_id':np.uint32,\n",
    "                                                                        'product_id':np.uint32,\n",
    "                                                                        'add_to_cart_order':np.uint8,\n",
    "                                                                        'reordered':np.bool})"
   ]
  },
  {
   "cell_type": "code",
   "execution_count": 4,
   "metadata": {
    "collapsed": false
   },
   "outputs": [
    {
     "name": "stdout",
     "output_type": "stream",
     "text": [
      "Reading the train products dataset...\n"
     ]
    }
   ],
   "source": [
    "print('Reading the train products dataset...')\n",
    "df_products_train = pd.read_csv('data/order_products__train.csv',dtype={'order_id':np.uint32,\n",
    "                                                                        'product_id':np.uint32,\n",
    "                                                                        'add_to_cart_order':np.uint8,\n",
    "                                                                        'reordered':np.bool})"
   ]
  },
  {
   "cell_type": "code",
   "execution_count": 9,
   "metadata": {
    "collapsed": false
   },
   "outputs": [
    {
     "name": "stdout",
     "output_type": "stream",
     "text": [
      "Selecting prior orders associated with the users in the train dataframe...\n"
     ]
    }
   ],
   "source": [
    "print('Selecting prior orders associated with the users in the train dataframe...')\n",
    "df_orders_prior = df_orders.loc[(df_orders['user_id'].isin(df_users.index.values))\n",
    "                               & (df_orders['eval_set']=='prior')]\n",
    "df_orders_prior=df_orders_prior.drop(['eval_set',],axis=1)"
   ]
  },
  {
   "cell_type": "code",
   "execution_count": 12,
   "metadata": {
    "collapsed": false
   },
   "outputs": [],
   "source": [
    "df_prod_cat = pd.read_csv('data/products_categorized.csv',dtype={'product_id':np.uint32,\n",
    "                                                               'aisle_cat':np.uint8,\n",
    "                                                               'department_cat':np.uint8})\n"
   ]
  },
  {
   "cell_type": "markdown",
   "metadata": {},
   "source": [
    "## Prediction of test dataset"
   ]
  },
  {
   "cell_type": "code",
   "execution_count": 5,
   "metadata": {
    "collapsed": false,
    "scrolled": true
   },
   "outputs": [
    {
     "name": "stderr",
     "output_type": "stream",
     "text": [
      "Using TensorFlow backend.\n"
     ]
    }
   ],
   "source": [
    "from keras.models import load_model\n",
    "model = load_model('model_file.h5')"
   ]
  },
  {
   "cell_type": "code",
   "execution_count": 7,
   "metadata": {
    "collapsed": false
   },
   "outputs": [
    {
     "name": "stdout",
     "output_type": "stream",
     "text": [
      "Selecting orders to train on...\n",
      "Creating a user dedicated dataframe...\n"
     ]
    }
   ],
   "source": [
    "print('Selecting orders to train on...')\n",
    "df_orders_test = df_orders.loc[df_orders['eval_set']=='test']\n",
    "print('Creating a user dedicated dataframe...')\n",
    "df_users = df_orders_test[['user_id','order_number','order_dow','order_hour_of_day','days_since_prior_order']]\n",
    "df_users=df_users.set_index('user_id')\n",
    "df_users = df_users.rename(columns={'order_number':'train_order_number'})\n",
    "df_users=df_users.drop(['order_dow','order_hour_of_day'],axis=1)"
   ]
  },
  {
   "cell_type": "code",
   "execution_count": 10,
   "metadata": {
    "collapsed": false
   },
   "outputs": [],
   "source": [
    "df_products_prior = pd.merge(df_orders_prior,df_products_prior, on='order_id')\n",
    "df_products_prior = df_products_prior.drop(['order_id','reordered'],axis=1)"
   ]
  },
  {
   "cell_type": "code",
   "execution_count": 13,
   "metadata": {
    "collapsed": false
   },
   "outputs": [],
   "source": [
    "df_products_prior = pd.merge(df_products_prior,df_prod_cat, on='product_id')"
   ]
  },
  {
   "cell_type": "code",
   "execution_count": 14,
   "metadata": {
    "collapsed": true
   },
   "outputs": [],
   "source": [
    "df_products_prior['order_hour_of_week'] = 24 * df_products_prior.order_dow + df_products_prior.order_hour_of_day\n",
    "df_products_prior.drop(['order_dow','order_hour_of_day'],axis=1,inplace=True)"
   ]
  },
  {
   "cell_type": "code",
   "execution_count": 15,
   "metadata": {
    "collapsed": false
   },
   "outputs": [],
   "source": [
    "merged = df_products_prior.groupby(['user_id','product_id'])\n",
    "df_products_prior3 = merged.agg({'order_number':np.max,\n",
    "                                 'days_since_prior_order':np.mean,\n",
    "                                 'add_to_cart_order':np.mean,\n",
    "                                 'department_cat':'last',\n",
    "                                 'aisle_cat':'last',\n",
    "                                 'order_hour_of_week':np.mean})\n",
    "df_products_prior3 = df_products_prior3.rename(columns={'add_to_cart_order':'mean_add_to_cart_order',\n",
    "                                                        'days_since_prior_order':'days_since_last_order',\n",
    "                                                        'order_number':'last_order_number'})\n",
    "df_products_prior3['times_ordered']=merged['order_number'].count()"
   ]
  },
  {
   "cell_type": "code",
   "execution_count": 16,
   "metadata": {
    "collapsed": false
   },
   "outputs": [],
   "source": [
    "df_final = df_products_prior3.join(df_users,rsuffix='_test')"
   ]
  },
  {
   "cell_type": "code",
   "execution_count": 17,
   "metadata": {
    "collapsed": false
   },
   "outputs": [],
   "source": [
    "df_final['proba'] = (df_final['times_ordered']-1.) / (df_final['train_order_number']-2.)\n",
    "df_final['orders_since_last_order'] = df_final['train_order_number']-df_final['last_order_number']\n",
    "df_final2 = df_final.drop(['days_since_last_order',\n",
    "                           'times_ordered',\n",
    "                           'train_order_number',\n",
    "                           'last_order_number',\n",
    "                           'days_since_prior_order'],axis=1)\n",
    "#df_final2 = pd.get_dummies(df_final2)"
   ]
  },
  {
   "cell_type": "code",
   "execution_count": 18,
   "metadata": {
    "collapsed": false
   },
   "outputs": [
    {
     "name": "stdout",
     "output_type": "stream",
     "text": [
      "(4833292, 6)\n"
     ]
    }
   ],
   "source": [
    "#X = df_final2[['mean_add_to_cart_order','proba','orders_since_last_order',\n",
    "#              'aisle_cat_very_low','aisle_cat_low','aisle_cat_middle','aisle_cat_high','aisle_cat_very_high',\n",
    "#              'department_cat_very_low','department_cat_low','department_cat_middle','department_cat_high','department_cat_very_high']].values\n",
    "X = df_final2[['mean_add_to_cart_order',\n",
    "               'proba',\n",
    "               'orders_since_last_order',\n",
    "               'aisle_cat',\n",
    "               'department_cat',\n",
    "              'order_hour_of_week']].values\n",
    "\n",
    "print(X.shape)"
   ]
  },
  {
   "cell_type": "code",
   "execution_count": 229,
   "metadata": {
    "collapsed": false
   },
   "outputs": [],
   "source": [
    "resultat = model.predict(X)"
   ]
  },
  {
   "cell_type": "code",
   "execution_count": 245,
   "metadata": {
    "collapsed": false,
    "scrolled": true
   },
   "outputs": [],
   "source": [
    "df_resultats = pd.DataFrame(resultat,index=df_final2.index)\n",
    "#df_resultats.head(200)"
   ]
  },
  {
   "cell_type": "code",
   "execution_count": 246,
   "metadata": {
    "collapsed": false
   },
   "outputs": [],
   "source": [
    "def tirage_alea(row):\n",
    "    if (row['std']==0):\n",
    "        return 0\n",
    "    else:\n",
    "        #alea = np.maximum(0,int(np.random.normal(row['mean'],row['std'])))\n",
    "        alea = np.maximum(0,int(row['mean']))\n",
    "        return alea\n",
    "                            \n",
    "df_number_of_product = pd.read_csv('data/number_of_products_per_user.csv')\n",
    "df_number_of_product['nombre_produits_alea'] = df_number_of_product.apply(tirage_alea,axis=1)\n",
    "df_number_of_product.set_index('user_id',inplace=True)\n",
    "#df_number_of_product.head()"
   ]
  },
  {
   "cell_type": "code",
   "execution_count": 247,
   "metadata": {
    "collapsed": false
   },
   "outputs": [],
   "source": [
    "def choix_produits(group):\n",
    "    inds = np.argsort(group[1].values)\n",
    "    nbre_prod = int(np.minimum(len(inds),df_number_of_product.loc[group.name,'nombre_produits_alea']))\n",
    "    #print(group.name,df_number_of_product.loc[group.name,'nombre_produits_alea'])\n",
    "    inds = inds[:-nbre_prod-1:-1]\n",
    "    \n",
    "    if len(inds) == 0:\n",
    "        return 'None'\n",
    "    \n",
    "    else :\n",
    "        products = (group['product_id'].values)[inds]\n",
    "        return ' '.join(products.astype(str))"
   ]
  },
  {
   "cell_type": "code",
   "execution_count": 248,
   "metadata": {
    "collapsed": false
   },
   "outputs": [],
   "source": [
    "def output_pred2(df_resultats,decision_threshold):\n",
    "    grouped = df_resultats.reset_index(level='product_id').groupby(level='user_id')\n",
    "    df_resultats = grouped.apply(choix_produits)\n",
    "    df_resultats = pd.DataFrame({'product_id':df_resultats})\n",
    "    \n",
    "    df_a_soumettre = df_orders_test.join(df_resultats,on='user_id')[['order_id','product_id']].sort_values('order_id')\n",
    "    #df_a_soumettre = df_a_soumettre.fillna('None')\n",
    "\n",
    "    df_a_soumettre.to_csv('soumission.csv',sep=',',\n",
    "                               index=False,\n",
    "                               header=['order_id','products'],\n",
    "                               quoting=False)\n",
    "    return df_a_soumettre"
   ]
  },
  {
   "cell_type": "code",
   "execution_count": 249,
   "metadata": {
    "collapsed": false
   },
   "outputs": [],
   "source": [
    "def output_pred(df_resultats,decision_threshold):\n",
    "    df_res = df_resultats.loc[df_resultats[1]>decision_threshold].reset_index()\n",
    "    df_res = df_res.groupby(['user_id'])['product_id'].apply(lambda x : ' '.join(x.astype(str)))\n",
    "\n",
    "    df_a_soumettre = df_orders_test.join(df_res,on='user_id')[['order_id','product_id']].sort_values('order_id')\n",
    "    df_a_soumettre = df_a_soumettre.fillna('None')\n",
    "\n",
    "    df_a_soumettre.to_csv('soumission.csv',sep=',',\n",
    "                                 index=False,\n",
    "                                 header=['order_id','products'],\n",
    "                                 quoting=False)\n",
    "    return df_a_soumettre"
   ]
  },
  {
   "cell_type": "code",
   "execution_count": 250,
   "metadata": {
    "collapsed": false
   },
   "outputs": [],
   "source": [
    "def test_pred(df_resultats, decision_threshold):\n",
    "    df_a_soumettre = output_pred(df_resultats,decision_threshold)\n",
    "    df_true = df_products_train[df_products_train['order_id'].isin(df_orders_test['order_id'])]\n",
    "    df_true = df_true[df_true['reordered']==1][['order_id','product_id']]\n",
    "    df_true = df_true.groupby('order_id')['product_id'].apply(lambda x : ' '.join(x.astype(str)))\n",
    "    df_true = df_a_soumettre.join(df_true,on='order_id',rsuffix='_true')\n",
    "    df_true['product_id_true'] = df_true['product_id_true'].fillna('None')\n",
    "    #df_true.head()\n",
    "    df_true['f1'] = df_true[:100].apply(f1_score_perso,axis=1)\n",
    "    return decision_threshold,np.mean(df_true['f1'])"
   ]
  },
  {
   "cell_type": "code",
   "execution_count": 237,
   "metadata": {
    "collapsed": false
   },
   "outputs": [
    {
     "data": {
      "text/html": [
       "<div>\n",
       "<table border=\"1\" class=\"dataframe\">\n",
       "  <thead>\n",
       "    <tr style=\"text-align: right;\">\n",
       "      <th></th>\n",
       "      <th>order_id</th>\n",
       "      <th>product_id</th>\n",
       "      <th>add_to_cart_order</th>\n",
       "      <th>reordered</th>\n",
       "    </tr>\n",
       "  </thead>\n",
       "  <tbody>\n",
       "    <tr>\n",
       "      <th>92</th>\n",
       "      <td>170</td>\n",
       "      <td>18394</td>\n",
       "      <td>1</td>\n",
       "      <td>True</td>\n",
       "    </tr>\n",
       "    <tr>\n",
       "      <th>93</th>\n",
       "      <td>170</td>\n",
       "      <td>37766</td>\n",
       "      <td>2</td>\n",
       "      <td>True</td>\n",
       "    </tr>\n",
       "    <tr>\n",
       "      <th>94</th>\n",
       "      <td>170</td>\n",
       "      <td>13176</td>\n",
       "      <td>3</td>\n",
       "      <td>True</td>\n",
       "    </tr>\n",
       "    <tr>\n",
       "      <th>95</th>\n",
       "      <td>170</td>\n",
       "      <td>6236</td>\n",
       "      <td>4</td>\n",
       "      <td>True</td>\n",
       "    </tr>\n",
       "    <tr>\n",
       "      <th>96</th>\n",
       "      <td>170</td>\n",
       "      <td>5077</td>\n",
       "      <td>5</td>\n",
       "      <td>True</td>\n",
       "    </tr>\n",
       "  </tbody>\n",
       "</table>\n",
       "</div>"
      ],
      "text/plain": [
       "    order_id  product_id  add_to_cart_order reordered\n",
       "92       170       18394                  1      True\n",
       "93       170       37766                  2      True\n",
       "94       170       13176                  3      True\n",
       "95       170        6236                  4      True\n",
       "96       170        5077                  5      True"
      ]
     },
     "execution_count": 237,
     "metadata": {},
     "output_type": "execute_result"
    }
   ],
   "source": [
    "df_a_soumettre = output_pred2(df_resultats,1.)\n",
    "df_true = df_products_train[df_products_train['order_id'].isin(df_orders_test['order_id'])]\n",
    "#df_true = df_true[df_true['reordered']==1][['order_id','product_id']]\n",
    "#df_true = df_true.groupby('order_id')['product_id'].apply(lambda x : ' '.join(x.astype(str)))\n",
    "#df_true = df_a_soumettre.join(df_true,on='order_id',rsuffix='_true')\n",
    "#df_true['product_id_true'] = df_true['product_id_true'].fillna('None')\n",
    "df_true.head()"
   ]
  },
  {
   "cell_type": "code",
   "execution_count": 238,
   "metadata": {
    "collapsed": false
   },
   "outputs": [],
   "source": [
    "#from wikipedia : https://en.wikipedia.org/wiki/F1_score\n",
    "# f1 = 2 * precision * recall / (precision+recall)\n",
    "# precision  = number of true posisive  / number of predicted positive\n",
    "# recall     = number of true posisive  / number of positives\n",
    "\n",
    "def f1_score_perso(row):\n",
    "    y_pred = row['product_id']\n",
    "    y_true = row['product_id_true']\n",
    "    if y_pred == 'None':\n",
    "        y_pred = [0]\n",
    "    else:\n",
    "        y_pred = [int(y) for y in y_pred.split(' ')]\n",
    "    if y_true == 'None':\n",
    "        y_true = [0]\n",
    "    else:\n",
    "        y_true = [int(y) for y in y_true.split(' ')]\n",
    "    true_pos = np.intersect1d(y_pred,y_true)\n",
    "    precision = len(true_pos) / float(len(y_pred))\n",
    "    recall = len(true_pos) / float(len(y_true))\n",
    "    if precision+recall == 0:\n",
    "        f1 = 0.\n",
    "    else :\n",
    "        f1 = 2 * precision * recall / (precision+recall)\n",
    "    return f1"
   ]
  },
  {
   "cell_type": "code",
   "execution_count": 239,
   "metadata": {
    "collapsed": false
   },
   "outputs": [],
   "source": [
    "#test_pred(df_resultats, 1.)"
   ]
  },
  {
   "cell_type": "code",
   "execution_count": 252,
   "metadata": {
    "collapsed": false
   },
   "outputs": [
    {
     "name": "stdout",
     "output_type": "stream",
     "text": [
      "(0.55000000000000004, 0.33404581105701397)\n",
      "(0.56000000000000005, 0.33912644595165131)\n",
      "(0.57000000000000006, 0.34181339128458688)\n",
      "(0.58000000000000007, 0.3471330839784656)\n",
      "(0.59000000000000008, 0.34896709080881644)\n",
      "(0.60000000000000009, 0.34967902234963932)\n",
      "(0.6100000000000001, 0.34763971562149243)\n",
      "(0.62000000000000011, 0.35467422405636179)\n",
      "(0.63000000000000012, 0.35660348698161926)\n",
      "(0.64000000000000012, 0.35995923816366926)\n",
      "(0.65000000000000013, 0.36419954399652077)\n",
      "(0.66000000000000014, 0.36841483111575157)\n",
      "(0.67000000000000015, 0.36407769944517038)\n",
      "(0.68000000000000016, 0.36952428232044471)\n",
      "(0.69000000000000017, 0.36935495523228395)\n",
      "(0.70000000000000018, 0.36785692952147181)\n",
      "(0.71000000000000019, 0.3685372000071564)\n",
      "(0.7200000000000002, 0.36844049277984908)\n",
      "(0.7300000000000002, 0.37430126061541374)\n",
      "(0.74000000000000021, 0.36914326587205926)\n",
      "(0.75000000000000022, 0.37305693200226914)\n"
     ]
    }
   ],
   "source": [
    "#decision_thresholds = np.arange(0.1,0.95,0.1)\n",
    "decision_thresholds = np.arange(0.55,0.76,0.01)\n",
    "#decision_thresholds = np.array([0.73])\n",
    "#decision_thresholds = np.arange(0.05,0.26,0.01)\n",
    "#decision_thresholds = []\n",
    "f1_sco = []\n",
    "for decision_threshold in decision_thresholds:\n",
    "    var_tmp = test_pred(df_resultats, decision_threshold)\n",
    "    f1_sco.append(var_tmp)\n",
    "    print (var_tmp)"
   ]
  },
  {
   "cell_type": "code",
   "execution_count": 253,
   "metadata": {
    "collapsed": false
   },
   "outputs": [
    {
     "name": "stdout",
     "output_type": "stream",
     "text": [
      "(0.76000000000000001, 0.36942014561847963)\n",
      "(0.77000000000000002, 0.36263139197050942)\n",
      "(0.78000000000000003, 0.36100079861166301)\n",
      "(0.79000000000000004, 0.36222383927546842)\n",
      "(0.80000000000000004, 0.36815403069293451)\n"
     ]
    }
   ],
   "source": [
    "#decision_thresholds = np.arange(0.1,0.95,0.1)\n",
    "decision_thresholds = np.arange(0.76,0.80,0.01)\n",
    "#decision_thresholds = np.array([0.73])\n",
    "#decision_thresholds = np.arange(0.05,0.26,0.01)\n",
    "#decision_thresholds = []\n",
    "f1_sco = []\n",
    "for decision_threshold in decision_thresholds:\n",
    "    var_tmp = test_pred(df_resultats, decision_threshold)\n",
    "    f1_sco.append(var_tmp)\n",
    "    print (var_tmp)"
   ]
  },
  {
   "cell_type": "code",
   "execution_count": 241,
   "metadata": {
    "collapsed": false
   },
   "outputs": [],
   "source": [
    "#df = output_pred2(df_resultats,0.73)\n",
    "#df.shape"
   ]
  }
 ],
 "metadata": {
  "kernelspec": {
   "display_name": "Python 2",
   "language": "python",
   "name": "python2"
  },
  "language_info": {
   "codemirror_mode": {
    "name": "ipython",
    "version": 2
   },
   "file_extension": ".py",
   "mimetype": "text/x-python",
   "name": "python",
   "nbconvert_exporter": "python",
   "pygments_lexer": "ipython2",
   "version": "2.7.14"
  }
 },
 "nbformat": 4,
 "nbformat_minor": 1
}
